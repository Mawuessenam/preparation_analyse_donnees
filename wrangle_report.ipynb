{
 "cells": [
  {
   "cell_type": "markdown",
   "id": "9ac159d9",
   "metadata": {},
   "source": [
    "# Efforts de Traitement de données"
   ]
  },
  {
   "cell_type": "markdown",
   "id": "860a2409",
   "metadata": {},
   "source": [
    "Dans le cadre de ce projet, nous allons travailler sur les archives de Twitter de WeRateDogs contenant des données de base sur 5000 tweets, les données supplémentaires collectées à partir de l'API Twitter et les fichiers de prédictions d'images.\n",
    "Après rassemblage et évaluation (visuelle et programmatique), nous avions recensé les problèmes de structures (d'ordre) et de qualités suivants :"
   ]
  },
  {
   "cell_type": "markdown",
   "id": "086b78e7",
   "metadata": {},
   "source": [
    "### 1. Problèmes de structures"
   ]
  },
  {
   "cell_type": "markdown",
   "id": "f5f6a723",
   "metadata": {},
   "source": [
    "- Les noms des espéces de chiens (doggo, floofer, pupper, puppo) sont séparés en quatre (04) colonnes différentes.\n",
    "- Toutes ces bases de données sont liées mais séparées en trois (03) bases de données distinctes."
   ]
  },
  {
   "cell_type": "markdown",
   "id": "fe41a3c4",
   "metadata": {},
   "source": [
    "### 2. Problèmes de qualités"
   ]
  },
  {
   "cell_type": "markdown",
   "id": "6c2eb279",
   "metadata": {},
   "source": [
    "#### A. Les Archives Améliorées de Twitter"
   ]
  },
  {
   "cell_type": "markdown",
   "id": "81e35e7f",
   "metadata": {},
   "source": [
    "- tweet_id doit être \"string\" et non \"int\".\n",
    "- Certaines valeurs dans la colonne rating_denominator ne sont pas \"10\".\n",
    "- certaines valeurs dans la colonne rating_numerator sont inférieures à \"10\"\n",
    "- Certaines valeurs dans la colonne rating_numerator = zéro.\n",
    "- Timestamp doit être sous format \"data time\" et non \"str\".\n",
    "- retweeted_status_id doit être supprimé car nous nous intéressons au tweet.\n",
    "- retweeted_status_user_id doit être supprimé car nous nous intéressons au tweet.\n",
    "- retweeted_status_timestamp doit être supprimé car nous nous intéressons au tweet.\n",
    "- Les valeurs nulles sont représentées par (None) dans la colonne de name."
   ]
  },
  {
   "cell_type": "markdown",
   "id": "24ea7b89",
   "metadata": {},
   "source": [
    "#### B. Les Fichiers de prédictions d'images"
   ]
  },
  {
   "cell_type": "markdown",
   "id": "f9dbc236",
   "metadata": {},
   "source": [
    "- Certaines lettres en p commencent par une lettre majuscule tandis que d'autres sont en minuscule.\n",
    "- tweet_id doit être une chaine de caractère et non un entier."
   ]
  },
  {
   "cell_type": "markdown",
   "id": "0e1b85be",
   "metadata": {},
   "source": [
    "#### C. Les données supplémentaires de l'API Twitter"
   ]
  },
  {
   "cell_type": "markdown",
   "id": "5d299b52",
   "metadata": {},
   "source": [
    "- Le nom des identifiants des colonnes doit être tweet_id au lieu de id.\n",
    "- tweet_id doit être une chaîne et non un entier."
   ]
  }
 ],
 "metadata": {
  "kernelspec": {
   "display_name": "Python 3 (ipykernel)",
   "language": "python",
   "name": "python3"
  },
  "language_info": {
   "codemirror_mode": {
    "name": "ipython",
    "version": 3
   },
   "file_extension": ".py",
   "mimetype": "text/x-python",
   "name": "python",
   "nbconvert_exporter": "python",
   "pygments_lexer": "ipython3",
   "version": "3.9.12"
  }
 },
 "nbformat": 4,
 "nbformat_minor": 5
}
