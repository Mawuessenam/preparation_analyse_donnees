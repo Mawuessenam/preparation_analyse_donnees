{
 "cells": [
  {
   "cell_type": "markdown",
   "id": "eb16af4f",
   "metadata": {},
   "source": [
    "# PROJET WeRateDogs"
   ]
  },
  {
   "cell_type": "markdown",
   "id": "54e9aeed",
   "metadata": {},
   "source": [
    "## Table des matières"
   ]
  },
  {
   "cell_type": "markdown",
   "id": "b20291a1",
   "metadata": {},
   "source": [
    "### Introduction"
   ]
  },
  {
   "cell_type": "markdown",
   "id": "bcf4558f",
   "metadata": {},
   "source": [
    "WeRateDogs (dog_rates) est un compte Twitter qui évalue les chiens des gens avec un commentaire amusant sur le chien, notre objectif est de mélanger ses données d'archives à partir de différentes sources pour créer une trame de données propre, puis d'effectuer une analyse et une visualisation des données."
   ]
  },
  {
   "cell_type": "markdown",
   "id": "1ee0a81d",
   "metadata": {},
   "source": [
    "### 1. Importation des librairies"
   ]
  },
  {
   "cell_type": "code",
   "execution_count": 90,
   "id": "b75d375f",
   "metadata": {},
   "outputs": [],
   "source": [
    "import pandas as pd\n",
    "import numpy as np\n",
    "import matplotlib.pyplot as plt\n",
    "%matplotlib inline\n",
    "import requests\n",
    "import seaborn as sns\n",
    "sns.set_theme()"
   ]
  },
  {
   "cell_type": "markdown",
   "id": "9c56dbfa",
   "metadata": {},
   "source": [
    "### 2. Rassembler les données"
   ]
  },
  {
   "cell_type": "markdown",
   "id": "630a38d6",
   "metadata": {},
   "source": [
    "### A. Les Archives de Twitter Améliorées"
   ]
  },
  {
   "cell_type": "code",
   "execution_count": 31,
   "id": "5b87b0c2",
   "metadata": {},
   "outputs": [],
   "source": [
    "# Importation de df_twitter_archive\n",
    "df_twitter_archive = pd.read_csv('twitter-archive-enhanced.csv')"
   ]
  },
  {
   "cell_type": "markdown",
   "id": "6c5318a5",
   "metadata": {},
   "source": [
    "### B. Les Fichiers de Prédictions d'images"
   ]
  },
  {
   "cell_type": "code",
   "execution_count": 32,
   "id": "bb00a292",
   "metadata": {},
   "outputs": [],
   "source": [
    "# Importation de df_image_prediction\n",
    "df_image_prediction =pd.read_csv('image-predictions.tsv',sep='\\t')"
   ]
  },
  {
   "cell_type": "markdown",
   "id": "73062ea5",
   "metadata": {},
   "source": [
    "### C. Les données supplémentaires de l'API Twitter"
   ]
  },
  {
   "cell_type": "code",
   "execution_count": 33,
   "id": "89ccf42f",
   "metadata": {},
   "outputs": [],
   "source": [
    "# import tweepy\n",
    "# from tweepy import OAuthHandler\n",
    "# import json\n",
    "# from timeit import default_timer as timer\n",
    "\n",
    "# Query Twitter API for each tweet in the Twitter archive and save JSON in a text file\n",
    "# These are hidden to comply with Twitter's API terms and conditions\n",
    "\n",
    "# consumer_key = 'xxxx'\n",
    "# consumer_secret = 'xxxx'\n",
    "# access_token = 'xxxx'\n",
    "# access_secret = 'xxxx'\n",
    "\n",
    "# auth = OAuthHandler(consumer_key, consumer_secret)\n",
    "# auth.set_access_token(access_token, access_secret)\n",
    "\n",
    "# api = tweepy.API(auth, wait_on_rate_limit=True)\n",
    "\n",
    "# NOTE TO STUDENT WITH MOBILE VERIFICATION ISSUES:\n",
    "# df_1 is a DataFrame with the twitter_archive_enhanced.csv file. You may have to\n",
    "# change line 17 to match the name of your DataFrame with twitter_archive_enhanced.csv\n",
    "# NOTE TO REVIEWER: this student had mobile verification issues so the following\n",
    "# Twitter API code was sent to this student from a Udacity instructor\n",
    "# Tweet IDs for which to gather additional data via Twitter's API\n",
    "\n",
    "# tweet_ids = df_1.tweet_id.values\n",
    "# len(tweet_ids)\n",
    "\n",
    "# Query Twitter's API for JSON data for each tweet ID in the Twitter archive\n",
    "# count = 0\n",
    "# fails_dict = {}\n",
    "# start = timer()\n",
    "\n",
    "# Save each tweet's returned JSON as a new line in a .txt file\n",
    "\n",
    "# with open('tweet_json.txt', 'w') as outfile:\n",
    "    # This loop will likely take 20-30 minutes to run because of Twitter's rate limit\n",
    "    # for tweet_id in tweet_ids:\n",
    "        # count += 1\n",
    "        # print(str(count) + \": \" + str(tweet_id))\n",
    "        # try:\n",
    "            # tweet = api.get_status(tweet_id, tweet_mode='extended')\n",
    "            # print(\"Success\")\n",
    "            # json.dump(tweet._json, outfile)\n",
    "            # outfile.write('\\n')\n",
    "        # except tweepy.errors.HTTPException as e:\n",
    "            # print(\"Fail\")\n",
    "            # fails_dict[tweet_id] = e\n",
    "            # pass\n",
    "# end = timer()\n",
    "# print(end - start)\n",
    "# print(fails_dict)"
   ]
  },
  {
   "cell_type": "code",
   "execution_count": 34,
   "id": "a00ad8a7",
   "metadata": {},
   "outputs": [],
   "source": [
    "# Importation de df_tweet_json\n",
    "df_tweet_json = pd.read_json('tweet-json.txt', encoding = \"utf8\", lines = True)"
   ]
  },
  {
   "cell_type": "markdown",
   "id": "b3c17c8a",
   "metadata": {},
   "source": [
    "### 3. Evaluation des données"
   ]
  },
  {
   "cell_type": "markdown",
   "id": "2af1cf9a",
   "metadata": {},
   "source": [
    "### 3.1 Evaluation programmatique"
   ]
  },
  {
   "cell_type": "markdown",
   "id": "013cd8c5",
   "metadata": {},
   "source": [
    "### A. Evaluation des Archives de Twitter Améliorées"
   ]
  },
  {
   "cell_type": "code",
   "execution_count": 35,
   "id": "58328e4b",
   "metadata": {},
   "outputs": [
    {
     "data": {
      "text/html": [
       "<div>\n",
       "<style scoped>\n",
       "    .dataframe tbody tr th:only-of-type {\n",
       "        vertical-align: middle;\n",
       "    }\n",
       "\n",
       "    .dataframe tbody tr th {\n",
       "        vertical-align: top;\n",
       "    }\n",
       "\n",
       "    .dataframe thead th {\n",
       "        text-align: right;\n",
       "    }\n",
       "</style>\n",
       "<table border=\"1\" class=\"dataframe\">\n",
       "  <thead>\n",
       "    <tr style=\"text-align: right;\">\n",
       "      <th></th>\n",
       "      <th>tweet_id</th>\n",
       "      <th>in_reply_to_status_id</th>\n",
       "      <th>in_reply_to_user_id</th>\n",
       "      <th>timestamp</th>\n",
       "      <th>source</th>\n",
       "      <th>text</th>\n",
       "      <th>retweeted_status_id</th>\n",
       "      <th>retweeted_status_user_id</th>\n",
       "      <th>retweeted_status_timestamp</th>\n",
       "      <th>expanded_urls</th>\n",
       "      <th>rating_numerator</th>\n",
       "      <th>rating_denominator</th>\n",
       "      <th>name</th>\n",
       "      <th>doggo</th>\n",
       "      <th>floofer</th>\n",
       "      <th>pupper</th>\n",
       "      <th>puppo</th>\n",
       "    </tr>\n",
       "  </thead>\n",
       "  <tbody>\n",
       "    <tr>\n",
       "      <th>0</th>\n",
       "      <td>892420643555336193</td>\n",
       "      <td>NaN</td>\n",
       "      <td>NaN</td>\n",
       "      <td>2017-08-01 16:23:56 +0000</td>\n",
       "      <td>&lt;a href=\"http://twitter.com/download/iphone\" r...</td>\n",
       "      <td>This is Phineas. He's a mystical boy. Only eve...</td>\n",
       "      <td>NaN</td>\n",
       "      <td>NaN</td>\n",
       "      <td>NaN</td>\n",
       "      <td>https://twitter.com/dog_rates/status/892420643...</td>\n",
       "      <td>13</td>\n",
       "      <td>10</td>\n",
       "      <td>Phineas</td>\n",
       "      <td>None</td>\n",
       "      <td>None</td>\n",
       "      <td>None</td>\n",
       "      <td>None</td>\n",
       "    </tr>\n",
       "    <tr>\n",
       "      <th>1</th>\n",
       "      <td>892177421306343426</td>\n",
       "      <td>NaN</td>\n",
       "      <td>NaN</td>\n",
       "      <td>2017-08-01 00:17:27 +0000</td>\n",
       "      <td>&lt;a href=\"http://twitter.com/download/iphone\" r...</td>\n",
       "      <td>This is Tilly. She's just checking pup on you....</td>\n",
       "      <td>NaN</td>\n",
       "      <td>NaN</td>\n",
       "      <td>NaN</td>\n",
       "      <td>https://twitter.com/dog_rates/status/892177421...</td>\n",
       "      <td>13</td>\n",
       "      <td>10</td>\n",
       "      <td>Tilly</td>\n",
       "      <td>None</td>\n",
       "      <td>None</td>\n",
       "      <td>None</td>\n",
       "      <td>None</td>\n",
       "    </tr>\n",
       "    <tr>\n",
       "      <th>2</th>\n",
       "      <td>891815181378084864</td>\n",
       "      <td>NaN</td>\n",
       "      <td>NaN</td>\n",
       "      <td>2017-07-31 00:18:03 +0000</td>\n",
       "      <td>&lt;a href=\"http://twitter.com/download/iphone\" r...</td>\n",
       "      <td>This is Archie. He is a rare Norwegian Pouncin...</td>\n",
       "      <td>NaN</td>\n",
       "      <td>NaN</td>\n",
       "      <td>NaN</td>\n",
       "      <td>https://twitter.com/dog_rates/status/891815181...</td>\n",
       "      <td>12</td>\n",
       "      <td>10</td>\n",
       "      <td>Archie</td>\n",
       "      <td>None</td>\n",
       "      <td>None</td>\n",
       "      <td>None</td>\n",
       "      <td>None</td>\n",
       "    </tr>\n",
       "    <tr>\n",
       "      <th>3</th>\n",
       "      <td>891689557279858688</td>\n",
       "      <td>NaN</td>\n",
       "      <td>NaN</td>\n",
       "      <td>2017-07-30 15:58:51 +0000</td>\n",
       "      <td>&lt;a href=\"http://twitter.com/download/iphone\" r...</td>\n",
       "      <td>This is Darla. She commenced a snooze mid meal...</td>\n",
       "      <td>NaN</td>\n",
       "      <td>NaN</td>\n",
       "      <td>NaN</td>\n",
       "      <td>https://twitter.com/dog_rates/status/891689557...</td>\n",
       "      <td>13</td>\n",
       "      <td>10</td>\n",
       "      <td>Darla</td>\n",
       "      <td>None</td>\n",
       "      <td>None</td>\n",
       "      <td>None</td>\n",
       "      <td>None</td>\n",
       "    </tr>\n",
       "    <tr>\n",
       "      <th>4</th>\n",
       "      <td>891327558926688256</td>\n",
       "      <td>NaN</td>\n",
       "      <td>NaN</td>\n",
       "      <td>2017-07-29 16:00:24 +0000</td>\n",
       "      <td>&lt;a href=\"http://twitter.com/download/iphone\" r...</td>\n",
       "      <td>This is Franklin. He would like you to stop ca...</td>\n",
       "      <td>NaN</td>\n",
       "      <td>NaN</td>\n",
       "      <td>NaN</td>\n",
       "      <td>https://twitter.com/dog_rates/status/891327558...</td>\n",
       "      <td>12</td>\n",
       "      <td>10</td>\n",
       "      <td>Franklin</td>\n",
       "      <td>None</td>\n",
       "      <td>None</td>\n",
       "      <td>None</td>\n",
       "      <td>None</td>\n",
       "    </tr>\n",
       "  </tbody>\n",
       "</table>\n",
       "</div>"
      ],
      "text/plain": [
       "             tweet_id  in_reply_to_status_id  in_reply_to_user_id  \\\n",
       "0  892420643555336193                    NaN                  NaN   \n",
       "1  892177421306343426                    NaN                  NaN   \n",
       "2  891815181378084864                    NaN                  NaN   \n",
       "3  891689557279858688                    NaN                  NaN   \n",
       "4  891327558926688256                    NaN                  NaN   \n",
       "\n",
       "                   timestamp  \\\n",
       "0  2017-08-01 16:23:56 +0000   \n",
       "1  2017-08-01 00:17:27 +0000   \n",
       "2  2017-07-31 00:18:03 +0000   \n",
       "3  2017-07-30 15:58:51 +0000   \n",
       "4  2017-07-29 16:00:24 +0000   \n",
       "\n",
       "                                              source  \\\n",
       "0  <a href=\"http://twitter.com/download/iphone\" r...   \n",
       "1  <a href=\"http://twitter.com/download/iphone\" r...   \n",
       "2  <a href=\"http://twitter.com/download/iphone\" r...   \n",
       "3  <a href=\"http://twitter.com/download/iphone\" r...   \n",
       "4  <a href=\"http://twitter.com/download/iphone\" r...   \n",
       "\n",
       "                                                text  retweeted_status_id  \\\n",
       "0  This is Phineas. He's a mystical boy. Only eve...                  NaN   \n",
       "1  This is Tilly. She's just checking pup on you....                  NaN   \n",
       "2  This is Archie. He is a rare Norwegian Pouncin...                  NaN   \n",
       "3  This is Darla. She commenced a snooze mid meal...                  NaN   \n",
       "4  This is Franklin. He would like you to stop ca...                  NaN   \n",
       "\n",
       "   retweeted_status_user_id retweeted_status_timestamp  \\\n",
       "0                       NaN                        NaN   \n",
       "1                       NaN                        NaN   \n",
       "2                       NaN                        NaN   \n",
       "3                       NaN                        NaN   \n",
       "4                       NaN                        NaN   \n",
       "\n",
       "                                       expanded_urls  rating_numerator  \\\n",
       "0  https://twitter.com/dog_rates/status/892420643...                13   \n",
       "1  https://twitter.com/dog_rates/status/892177421...                13   \n",
       "2  https://twitter.com/dog_rates/status/891815181...                12   \n",
       "3  https://twitter.com/dog_rates/status/891689557...                13   \n",
       "4  https://twitter.com/dog_rates/status/891327558...                12   \n",
       "\n",
       "   rating_denominator      name doggo floofer pupper puppo  \n",
       "0                  10   Phineas  None    None   None  None  \n",
       "1                  10     Tilly  None    None   None  None  \n",
       "2                  10    Archie  None    None   None  None  \n",
       "3                  10     Darla  None    None   None  None  \n",
       "4                  10  Franklin  None    None   None  None  "
      ]
     },
     "execution_count": 35,
     "metadata": {},
     "output_type": "execute_result"
    }
   ],
   "source": [
    "# Observer les cinq (05) premières observations de df_twitter_archive\n",
    "df_twitter_archive.head()"
   ]
  },
  {
   "cell_type": "code",
   "execution_count": 36,
   "id": "8f047534",
   "metadata": {},
   "outputs": [
    {
     "data": {
      "text/html": [
       "<div>\n",
       "<style scoped>\n",
       "    .dataframe tbody tr th:only-of-type {\n",
       "        vertical-align: middle;\n",
       "    }\n",
       "\n",
       "    .dataframe tbody tr th {\n",
       "        vertical-align: top;\n",
       "    }\n",
       "\n",
       "    .dataframe thead th {\n",
       "        text-align: right;\n",
       "    }\n",
       "</style>\n",
       "<table border=\"1\" class=\"dataframe\">\n",
       "  <thead>\n",
       "    <tr style=\"text-align: right;\">\n",
       "      <th></th>\n",
       "      <th>tweet_id</th>\n",
       "      <th>in_reply_to_status_id</th>\n",
       "      <th>in_reply_to_user_id</th>\n",
       "      <th>timestamp</th>\n",
       "      <th>source</th>\n",
       "      <th>text</th>\n",
       "      <th>retweeted_status_id</th>\n",
       "      <th>retweeted_status_user_id</th>\n",
       "      <th>retweeted_status_timestamp</th>\n",
       "      <th>expanded_urls</th>\n",
       "      <th>rating_numerator</th>\n",
       "      <th>rating_denominator</th>\n",
       "      <th>name</th>\n",
       "      <th>doggo</th>\n",
       "      <th>floofer</th>\n",
       "      <th>pupper</th>\n",
       "      <th>puppo</th>\n",
       "    </tr>\n",
       "  </thead>\n",
       "  <tbody>\n",
       "    <tr>\n",
       "      <th>683</th>\n",
       "      <td>788412144018661376</td>\n",
       "      <td>NaN</td>\n",
       "      <td>NaN</td>\n",
       "      <td>2016-10-18 16:11:17 +0000</td>\n",
       "      <td>&lt;a href=\"http://twitter.com/download/iphone\" r...</td>\n",
       "      <td>This is Dexter. He breaks hearts for a living....</td>\n",
       "      <td>NaN</td>\n",
       "      <td>NaN</td>\n",
       "      <td>NaN</td>\n",
       "      <td>https://twitter.com/dog_rates/status/788412144...</td>\n",
       "      <td>11</td>\n",
       "      <td>10</td>\n",
       "      <td>Dexter</td>\n",
       "      <td>None</td>\n",
       "      <td>None</td>\n",
       "      <td>None</td>\n",
       "      <td>None</td>\n",
       "    </tr>\n",
       "    <tr>\n",
       "      <th>968</th>\n",
       "      <td>750147208377409536</td>\n",
       "      <td>NaN</td>\n",
       "      <td>NaN</td>\n",
       "      <td>2016-07-05 02:00:06 +0000</td>\n",
       "      <td>&lt;a href=\"http://twitter.com/download/iphone\" r...</td>\n",
       "      <td>And finally, happy 4th of July from the squad ...</td>\n",
       "      <td>NaN</td>\n",
       "      <td>NaN</td>\n",
       "      <td>NaN</td>\n",
       "      <td>https://twitter.com/dog_rates/status/750147208...</td>\n",
       "      <td>13</td>\n",
       "      <td>10</td>\n",
       "      <td>None</td>\n",
       "      <td>None</td>\n",
       "      <td>None</td>\n",
       "      <td>None</td>\n",
       "      <td>None</td>\n",
       "    </tr>\n",
       "    <tr>\n",
       "      <th>1132</th>\n",
       "      <td>728760639972315136</td>\n",
       "      <td>NaN</td>\n",
       "      <td>NaN</td>\n",
       "      <td>2016-05-07 01:37:30 +0000</td>\n",
       "      <td>&lt;a href=\"http://twitter.com/download/iphone\" r...</td>\n",
       "      <td>When you're way too slow for the \"down low\" po...</td>\n",
       "      <td>NaN</td>\n",
       "      <td>NaN</td>\n",
       "      <td>NaN</td>\n",
       "      <td>https://twitter.com/dog_rates/status/728760639...</td>\n",
       "      <td>13</td>\n",
       "      <td>10</td>\n",
       "      <td>None</td>\n",
       "      <td>None</td>\n",
       "      <td>None</td>\n",
       "      <td>None</td>\n",
       "      <td>None</td>\n",
       "    </tr>\n",
       "    <tr>\n",
       "      <th>1774</th>\n",
       "      <td>678023323247357953</td>\n",
       "      <td>6.780211e+17</td>\n",
       "      <td>4.196984e+09</td>\n",
       "      <td>2015-12-19 01:25:31 +0000</td>\n",
       "      <td>&lt;a href=\"http://twitter.com/download/iphone\" r...</td>\n",
       "      <td>After getting lost in Reese's eyes for several...</td>\n",
       "      <td>NaN</td>\n",
       "      <td>NaN</td>\n",
       "      <td>NaN</td>\n",
       "      <td>NaN</td>\n",
       "      <td>13</td>\n",
       "      <td>10</td>\n",
       "      <td>None</td>\n",
       "      <td>None</td>\n",
       "      <td>None</td>\n",
       "      <td>None</td>\n",
       "      <td>None</td>\n",
       "    </tr>\n",
       "    <tr>\n",
       "      <th>1685</th>\n",
       "      <td>681654059175129088</td>\n",
       "      <td>NaN</td>\n",
       "      <td>NaN</td>\n",
       "      <td>2015-12-29 01:52:46 +0000</td>\n",
       "      <td>&lt;a href=\"http://twitter.com/download/iphone\" r...</td>\n",
       "      <td>This is Toffee. He's a happy pupper. Appears d...</td>\n",
       "      <td>NaN</td>\n",
       "      <td>NaN</td>\n",
       "      <td>NaN</td>\n",
       "      <td>https://twitter.com/dog_rates/status/681654059...</td>\n",
       "      <td>12</td>\n",
       "      <td>10</td>\n",
       "      <td>Toffee</td>\n",
       "      <td>None</td>\n",
       "      <td>None</td>\n",
       "      <td>pupper</td>\n",
       "      <td>None</td>\n",
       "    </tr>\n",
       "  </tbody>\n",
       "</table>\n",
       "</div>"
      ],
      "text/plain": [
       "                tweet_id  in_reply_to_status_id  in_reply_to_user_id  \\\n",
       "683   788412144018661376                    NaN                  NaN   \n",
       "968   750147208377409536                    NaN                  NaN   \n",
       "1132  728760639972315136                    NaN                  NaN   \n",
       "1774  678023323247357953           6.780211e+17         4.196984e+09   \n",
       "1685  681654059175129088                    NaN                  NaN   \n",
       "\n",
       "                      timestamp  \\\n",
       "683   2016-10-18 16:11:17 +0000   \n",
       "968   2016-07-05 02:00:06 +0000   \n",
       "1132  2016-05-07 01:37:30 +0000   \n",
       "1774  2015-12-19 01:25:31 +0000   \n",
       "1685  2015-12-29 01:52:46 +0000   \n",
       "\n",
       "                                                 source  \\\n",
       "683   <a href=\"http://twitter.com/download/iphone\" r...   \n",
       "968   <a href=\"http://twitter.com/download/iphone\" r...   \n",
       "1132  <a href=\"http://twitter.com/download/iphone\" r...   \n",
       "1774  <a href=\"http://twitter.com/download/iphone\" r...   \n",
       "1685  <a href=\"http://twitter.com/download/iphone\" r...   \n",
       "\n",
       "                                                   text  retweeted_status_id  \\\n",
       "683   This is Dexter. He breaks hearts for a living....                  NaN   \n",
       "968   And finally, happy 4th of July from the squad ...                  NaN   \n",
       "1132  When you're way too slow for the \"down low\" po...                  NaN   \n",
       "1774  After getting lost in Reese's eyes for several...                  NaN   \n",
       "1685  This is Toffee. He's a happy pupper. Appears d...                  NaN   \n",
       "\n",
       "      retweeted_status_user_id retweeted_status_timestamp  \\\n",
       "683                        NaN                        NaN   \n",
       "968                        NaN                        NaN   \n",
       "1132                       NaN                        NaN   \n",
       "1774                       NaN                        NaN   \n",
       "1685                       NaN                        NaN   \n",
       "\n",
       "                                          expanded_urls  rating_numerator  \\\n",
       "683   https://twitter.com/dog_rates/status/788412144...                11   \n",
       "968   https://twitter.com/dog_rates/status/750147208...                13   \n",
       "1132  https://twitter.com/dog_rates/status/728760639...                13   \n",
       "1774                                                NaN                13   \n",
       "1685  https://twitter.com/dog_rates/status/681654059...                12   \n",
       "\n",
       "      rating_denominator    name doggo floofer  pupper puppo  \n",
       "683                   10  Dexter  None    None    None  None  \n",
       "968                   10    None  None    None    None  None  \n",
       "1132                  10    None  None    None    None  None  \n",
       "1774                  10    None  None    None    None  None  \n",
       "1685                  10  Toffee  None    None  pupper  None  "
      ]
     },
     "execution_count": 36,
     "metadata": {},
     "output_type": "execute_result"
    }
   ],
   "source": [
    "# Afficher cinq (05) observations par hasard de df_twitter_archive\n",
    "df_twitter_archive.sample(5)"
   ]
  },
  {
   "cell_type": "code",
   "execution_count": 37,
   "id": "0a34c182",
   "metadata": {},
   "outputs": [
    {
     "name": "stdout",
     "output_type": "stream",
     "text": [
      "<class 'pandas.core.frame.DataFrame'>\n",
      "RangeIndex: 2356 entries, 0 to 2355\n",
      "Data columns (total 17 columns):\n",
      " #   Column                      Non-Null Count  Dtype  \n",
      "---  ------                      --------------  -----  \n",
      " 0   tweet_id                    2356 non-null   int64  \n",
      " 1   in_reply_to_status_id       78 non-null     float64\n",
      " 2   in_reply_to_user_id         78 non-null     float64\n",
      " 3   timestamp                   2356 non-null   object \n",
      " 4   source                      2356 non-null   object \n",
      " 5   text                        2356 non-null   object \n",
      " 6   retweeted_status_id         181 non-null    float64\n",
      " 7   retweeted_status_user_id    181 non-null    float64\n",
      " 8   retweeted_status_timestamp  181 non-null    object \n",
      " 9   expanded_urls               2297 non-null   object \n",
      " 10  rating_numerator            2356 non-null   int64  \n",
      " 11  rating_denominator          2356 non-null   int64  \n",
      " 12  name                        2356 non-null   object \n",
      " 13  doggo                       2356 non-null   object \n",
      " 14  floofer                     2356 non-null   object \n",
      " 15  pupper                      2356 non-null   object \n",
      " 16  puppo                       2356 non-null   object \n",
      "dtypes: float64(4), int64(3), object(10)\n",
      "memory usage: 313.0+ KB\n"
     ]
    }
   ],
   "source": [
    "# Types et valeurs manquantes de df_twitter_archive\n",
    "df_twitter_archive.info()"
   ]
  },
  {
   "cell_type": "code",
   "execution_count": 38,
   "id": "8c013ce5",
   "metadata": {},
   "outputs": [
    {
     "data": {
      "text/plain": [
       "None          745\n",
       "a              55\n",
       "Charlie        12\n",
       "Cooper         11\n",
       "Lucy           11\n",
       "             ... \n",
       "Dex             1\n",
       "Ace             1\n",
       "Tayzie          1\n",
       "Grizzie         1\n",
       "Christoper      1\n",
       "Name: name, Length: 957, dtype: int64"
      ]
     },
     "execution_count": 38,
     "metadata": {},
     "output_type": "execute_result"
    }
   ],
   "source": [
    "# Les différents attributs de la colonne name\n",
    "df_twitter_archive.name.value_counts()"
   ]
  },
  {
   "cell_type": "code",
   "execution_count": 39,
   "id": "d2396091",
   "metadata": {},
   "outputs": [
    {
     "data": {
      "text/plain": [
       "'This is Archie. He is a rare Norwegian Pouncing Corgo. Lives in the tall grass. You never know when one may strike. 12/10 https://t.co/wUnZnhtVJB'"
      ]
     },
     "execution_count": 39,
     "metadata": {},
     "output_type": "execute_result"
    }
   ],
   "source": [
    "# Afficher la troisième intitulée de la colonne text\n",
    "df_twitter_archive.text[2]"
   ]
  },
  {
   "cell_type": "code",
   "execution_count": 40,
   "id": "771412d8",
   "metadata": {},
   "outputs": [
    {
     "data": {
      "text/plain": [
       "https://twitter.com/dog_rates/status/667152164079423490/photo/1                                                                                                                                                                                                    2\n",
       "https://twitter.com/dog_rates/status/718631497683582976/photo/1                                                                                                                                                                                                    2\n",
       "https://twitter.com/dog_rates/status/783839966405230592/photo/1,https://twitter.com/dog_rates/status/783839966405230592/photo/1,https://twitter.com/dog_rates/status/783839966405230592/photo/1                                                                    2\n",
       "https://twitter.com/dog_rates/status/774314403806253056/photo/1,https://twitter.com/dog_rates/status/774314403806253056/photo/1,https://twitter.com/dog_rates/status/774314403806253056/photo/1,https://twitter.com/dog_rates/status/774314403806253056/photo/1    2\n",
       "https://twitter.com/dog_rates/status/781524693396357120/photo/1                                                                                                                                                                                                    2\n",
       "                                                                                                                                                                                                                                                                  ..\n",
       "https://twitter.com/dog_rates/status/763837565564780549/photo/1                                                                                                                                                                                                    1\n",
       "https://twitter.com/dog_rates/status/764259802650378240/photo/1,https://twitter.com/dog_rates/status/764259802650378240/photo/1                                                                                                                                    1\n",
       "https://twitter.com/dog_rates/status/764857477905154048/photo/1                                                                                                                                                                                                    1\n",
       "https://twitter.com/dog_rates/status/765222098633691136/photo/1                                                                                                                                                                                                    1\n",
       "https://twitter.com/dog_rates/status/666020888022790149/photo/1                                                                                                                                                                                                    1\n",
       "Name: expanded_urls, Length: 2218, dtype: int64"
      ]
     },
     "execution_count": 40,
     "metadata": {},
     "output_type": "execute_result"
    }
   ],
   "source": [
    "# Les différents url de df_twitter_archive\n",
    "df_twitter_archive.expanded_urls.value_counts()"
   ]
  },
  {
   "cell_type": "code",
   "execution_count": 41,
   "id": "f56ca3fd",
   "metadata": {},
   "outputs": [
    {
     "data": {
      "text/plain": [
       "str"
      ]
     },
     "execution_count": 41,
     "metadata": {},
     "output_type": "execute_result"
    }
   ],
   "source": [
    "# Type de timestamp\n",
    "type(df_twitter_archive.timestamp[0])"
   ]
  },
  {
   "cell_type": "code",
   "execution_count": 42,
   "id": "45b6782f",
   "metadata": {},
   "outputs": [
    {
     "data": {
      "text/plain": [
       "0"
      ]
     },
     "execution_count": 42,
     "metadata": {},
     "output_type": "execute_result"
    }
   ],
   "source": [
    "# Les valeurs dupliquées de df_twitter_archive\n",
    "df_twitter_archive.duplicated().sum()"
   ]
  },
  {
   "cell_type": "code",
   "execution_count": 43,
   "id": "4df0854d",
   "metadata": {},
   "outputs": [
    {
     "data": {
      "text/plain": [
       "10     2333\n",
       "11        3\n",
       "50        3\n",
       "20        2\n",
       "80        2\n",
       "70        1\n",
       "7         1\n",
       "15        1\n",
       "150       1\n",
       "170       1\n",
       "0         1\n",
       "90        1\n",
       "40        1\n",
       "130       1\n",
       "110       1\n",
       "16        1\n",
       "120       1\n",
       "2         1\n",
       "Name: rating_denominator, dtype: int64"
      ]
     },
     "execution_count": 43,
     "metadata": {},
     "output_type": "execute_result"
    }
   ],
   "source": [
    "# Les différentes valeurs de rating_denominator\n",
    "df_twitter_archive.rating_denominator.value_counts()"
   ]
  },
  {
   "cell_type": "code",
   "execution_count": 44,
   "id": "ed1d4cea",
   "metadata": {},
   "outputs": [
    {
     "data": {
      "text/plain": [
       "12      558\n",
       "11      464\n",
       "10      461\n",
       "13      351\n",
       "9       158\n",
       "8       102\n",
       "7        55\n",
       "14       54\n",
       "5        37\n",
       "6        32\n",
       "3        19\n",
       "4        17\n",
       "2         9\n",
       "1         9\n",
       "75        2\n",
       "15        2\n",
       "420       2\n",
       "0         2\n",
       "80        1\n",
       "144       1\n",
       "17        1\n",
       "26        1\n",
       "20        1\n",
       "121       1\n",
       "143       1\n",
       "44        1\n",
       "60        1\n",
       "45        1\n",
       "50        1\n",
       "99        1\n",
       "204       1\n",
       "1776      1\n",
       "165       1\n",
       "666       1\n",
       "27        1\n",
       "182       1\n",
       "24        1\n",
       "960       1\n",
       "84        1\n",
       "88        1\n",
       "Name: rating_numerator, dtype: int64"
      ]
     },
     "execution_count": 44,
     "metadata": {},
     "output_type": "execute_result"
    }
   ],
   "source": [
    "# Les différentes valeurs de rating_numerator\n",
    "df_twitter_archive.rating_numerator.value_counts()"
   ]
  },
  {
   "cell_type": "markdown",
   "id": "de131575",
   "metadata": {},
   "source": [
    "### B. Evaluation des Fichiers de Prédiction d'Images"
   ]
  },
  {
   "cell_type": "code",
   "execution_count": 45,
   "id": "d66200a7",
   "metadata": {},
   "outputs": [
    {
     "data": {
      "text/html": [
       "<div>\n",
       "<style scoped>\n",
       "    .dataframe tbody tr th:only-of-type {\n",
       "        vertical-align: middle;\n",
       "    }\n",
       "\n",
       "    .dataframe tbody tr th {\n",
       "        vertical-align: top;\n",
       "    }\n",
       "\n",
       "    .dataframe thead th {\n",
       "        text-align: right;\n",
       "    }\n",
       "</style>\n",
       "<table border=\"1\" class=\"dataframe\">\n",
       "  <thead>\n",
       "    <tr style=\"text-align: right;\">\n",
       "      <th></th>\n",
       "      <th>tweet_id</th>\n",
       "      <th>jpg_url</th>\n",
       "      <th>img_num</th>\n",
       "      <th>p1</th>\n",
       "      <th>p1_conf</th>\n",
       "      <th>p1_dog</th>\n",
       "      <th>p2</th>\n",
       "      <th>p2_conf</th>\n",
       "      <th>p2_dog</th>\n",
       "      <th>p3</th>\n",
       "      <th>p3_conf</th>\n",
       "      <th>p3_dog</th>\n",
       "    </tr>\n",
       "  </thead>\n",
       "  <tbody>\n",
       "    <tr>\n",
       "      <th>0</th>\n",
       "      <td>666020888022790149</td>\n",
       "      <td>https://pbs.twimg.com/media/CT4udn0WwAA0aMy.jpg</td>\n",
       "      <td>1</td>\n",
       "      <td>Welsh_springer_spaniel</td>\n",
       "      <td>0.465074</td>\n",
       "      <td>True</td>\n",
       "      <td>collie</td>\n",
       "      <td>0.156665</td>\n",
       "      <td>True</td>\n",
       "      <td>Shetland_sheepdog</td>\n",
       "      <td>0.061428</td>\n",
       "      <td>True</td>\n",
       "    </tr>\n",
       "    <tr>\n",
       "      <th>1</th>\n",
       "      <td>666029285002620928</td>\n",
       "      <td>https://pbs.twimg.com/media/CT42GRgUYAA5iDo.jpg</td>\n",
       "      <td>1</td>\n",
       "      <td>redbone</td>\n",
       "      <td>0.506826</td>\n",
       "      <td>True</td>\n",
       "      <td>miniature_pinscher</td>\n",
       "      <td>0.074192</td>\n",
       "      <td>True</td>\n",
       "      <td>Rhodesian_ridgeback</td>\n",
       "      <td>0.072010</td>\n",
       "      <td>True</td>\n",
       "    </tr>\n",
       "    <tr>\n",
       "      <th>2</th>\n",
       "      <td>666033412701032449</td>\n",
       "      <td>https://pbs.twimg.com/media/CT4521TWwAEvMyu.jpg</td>\n",
       "      <td>1</td>\n",
       "      <td>German_shepherd</td>\n",
       "      <td>0.596461</td>\n",
       "      <td>True</td>\n",
       "      <td>malinois</td>\n",
       "      <td>0.138584</td>\n",
       "      <td>True</td>\n",
       "      <td>bloodhound</td>\n",
       "      <td>0.116197</td>\n",
       "      <td>True</td>\n",
       "    </tr>\n",
       "    <tr>\n",
       "      <th>3</th>\n",
       "      <td>666044226329800704</td>\n",
       "      <td>https://pbs.twimg.com/media/CT5Dr8HUEAA-lEu.jpg</td>\n",
       "      <td>1</td>\n",
       "      <td>Rhodesian_ridgeback</td>\n",
       "      <td>0.408143</td>\n",
       "      <td>True</td>\n",
       "      <td>redbone</td>\n",
       "      <td>0.360687</td>\n",
       "      <td>True</td>\n",
       "      <td>miniature_pinscher</td>\n",
       "      <td>0.222752</td>\n",
       "      <td>True</td>\n",
       "    </tr>\n",
       "    <tr>\n",
       "      <th>4</th>\n",
       "      <td>666049248165822465</td>\n",
       "      <td>https://pbs.twimg.com/media/CT5IQmsXIAAKY4A.jpg</td>\n",
       "      <td>1</td>\n",
       "      <td>miniature_pinscher</td>\n",
       "      <td>0.560311</td>\n",
       "      <td>True</td>\n",
       "      <td>Rottweiler</td>\n",
       "      <td>0.243682</td>\n",
       "      <td>True</td>\n",
       "      <td>Doberman</td>\n",
       "      <td>0.154629</td>\n",
       "      <td>True</td>\n",
       "    </tr>\n",
       "  </tbody>\n",
       "</table>\n",
       "</div>"
      ],
      "text/plain": [
       "             tweet_id                                          jpg_url  \\\n",
       "0  666020888022790149  https://pbs.twimg.com/media/CT4udn0WwAA0aMy.jpg   \n",
       "1  666029285002620928  https://pbs.twimg.com/media/CT42GRgUYAA5iDo.jpg   \n",
       "2  666033412701032449  https://pbs.twimg.com/media/CT4521TWwAEvMyu.jpg   \n",
       "3  666044226329800704  https://pbs.twimg.com/media/CT5Dr8HUEAA-lEu.jpg   \n",
       "4  666049248165822465  https://pbs.twimg.com/media/CT5IQmsXIAAKY4A.jpg   \n",
       "\n",
       "   img_num                      p1   p1_conf  p1_dog                  p2  \\\n",
       "0        1  Welsh_springer_spaniel  0.465074    True              collie   \n",
       "1        1                 redbone  0.506826    True  miniature_pinscher   \n",
       "2        1         German_shepherd  0.596461    True            malinois   \n",
       "3        1     Rhodesian_ridgeback  0.408143    True             redbone   \n",
       "4        1      miniature_pinscher  0.560311    True          Rottweiler   \n",
       "\n",
       "    p2_conf  p2_dog                   p3   p3_conf  p3_dog  \n",
       "0  0.156665    True    Shetland_sheepdog  0.061428    True  \n",
       "1  0.074192    True  Rhodesian_ridgeback  0.072010    True  \n",
       "2  0.138584    True           bloodhound  0.116197    True  \n",
       "3  0.360687    True   miniature_pinscher  0.222752    True  \n",
       "4  0.243682    True             Doberman  0.154629    True  "
      ]
     },
     "execution_count": 45,
     "metadata": {},
     "output_type": "execute_result"
    }
   ],
   "source": [
    "# Les (05) premières observations de df_image_prediction\n",
    "df_image_prediction.head()"
   ]
  },
  {
   "cell_type": "code",
   "execution_count": 46,
   "id": "1d7fc9ae",
   "metadata": {},
   "outputs": [
    {
     "data": {
      "text/html": [
       "<div>\n",
       "<style scoped>\n",
       "    .dataframe tbody tr th:only-of-type {\n",
       "        vertical-align: middle;\n",
       "    }\n",
       "\n",
       "    .dataframe tbody tr th {\n",
       "        vertical-align: top;\n",
       "    }\n",
       "\n",
       "    .dataframe thead th {\n",
       "        text-align: right;\n",
       "    }\n",
       "</style>\n",
       "<table border=\"1\" class=\"dataframe\">\n",
       "  <thead>\n",
       "    <tr style=\"text-align: right;\">\n",
       "      <th></th>\n",
       "      <th>tweet_id</th>\n",
       "      <th>jpg_url</th>\n",
       "      <th>img_num</th>\n",
       "      <th>p1</th>\n",
       "      <th>p1_conf</th>\n",
       "      <th>p1_dog</th>\n",
       "      <th>p2</th>\n",
       "      <th>p2_conf</th>\n",
       "      <th>p2_dog</th>\n",
       "      <th>p3</th>\n",
       "      <th>p3_conf</th>\n",
       "      <th>p3_dog</th>\n",
       "    </tr>\n",
       "  </thead>\n",
       "  <tbody>\n",
       "    <tr>\n",
       "      <th>488</th>\n",
       "      <td>675517828909424640</td>\n",
       "      <td>https://pbs.twimg.com/media/CV_r3v4VAAALvwg.jpg</td>\n",
       "      <td>1</td>\n",
       "      <td>Scottish_deerhound</td>\n",
       "      <td>0.240591</td>\n",
       "      <td>True</td>\n",
       "      <td>groenendael</td>\n",
       "      <td>0.156916</td>\n",
       "      <td>True</td>\n",
       "      <td>flat-coated_retriever</td>\n",
       "      <td>0.090899</td>\n",
       "      <td>True</td>\n",
       "    </tr>\n",
       "    <tr>\n",
       "      <th>110</th>\n",
       "      <td>667886921285246976</td>\n",
       "      <td>https://pbs.twimg.com/media/CUTPnPCW4AI7R0y.jpg</td>\n",
       "      <td>1</td>\n",
       "      <td>Pomeranian</td>\n",
       "      <td>0.800432</td>\n",
       "      <td>True</td>\n",
       "      <td>Pekinese</td>\n",
       "      <td>0.168445</td>\n",
       "      <td>True</td>\n",
       "      <td>Chihuahua</td>\n",
       "      <td>0.008950</td>\n",
       "      <td>True</td>\n",
       "    </tr>\n",
       "    <tr>\n",
       "      <th>1397</th>\n",
       "      <td>768193404517830656</td>\n",
       "      <td>https://pbs.twimg.com/media/Cqkr0wiW8AAn2Oi.jpg</td>\n",
       "      <td>1</td>\n",
       "      <td>lion</td>\n",
       "      <td>0.396984</td>\n",
       "      <td>False</td>\n",
       "      <td>ram</td>\n",
       "      <td>0.300851</td>\n",
       "      <td>False</td>\n",
       "      <td>cheetah</td>\n",
       "      <td>0.094474</td>\n",
       "      <td>False</td>\n",
       "    </tr>\n",
       "    <tr>\n",
       "      <th>631</th>\n",
       "      <td>680940246314430465</td>\n",
       "      <td>https://pbs.twimg.com/media/CXMvio7WQAAPZJj.jpg</td>\n",
       "      <td>1</td>\n",
       "      <td>soft-coated_wheaten_terrier</td>\n",
       "      <td>0.289598</td>\n",
       "      <td>True</td>\n",
       "      <td>West_Highland_white_terrier</td>\n",
       "      <td>0.157195</td>\n",
       "      <td>True</td>\n",
       "      <td>toy_poodle</td>\n",
       "      <td>0.074435</td>\n",
       "      <td>True</td>\n",
       "    </tr>\n",
       "    <tr>\n",
       "      <th>72</th>\n",
       "      <td>667211855547486208</td>\n",
       "      <td>https://pbs.twimg.com/media/CUJppKJWoAA75NP.jpg</td>\n",
       "      <td>1</td>\n",
       "      <td>golden_retriever</td>\n",
       "      <td>0.462556</td>\n",
       "      <td>True</td>\n",
       "      <td>Labrador_retriever</td>\n",
       "      <td>0.454937</td>\n",
       "      <td>True</td>\n",
       "      <td>kuvasz</td>\n",
       "      <td>0.024193</td>\n",
       "      <td>True</td>\n",
       "    </tr>\n",
       "  </tbody>\n",
       "</table>\n",
       "</div>"
      ],
      "text/plain": [
       "                tweet_id                                          jpg_url  \\\n",
       "488   675517828909424640  https://pbs.twimg.com/media/CV_r3v4VAAALvwg.jpg   \n",
       "110   667886921285246976  https://pbs.twimg.com/media/CUTPnPCW4AI7R0y.jpg   \n",
       "1397  768193404517830656  https://pbs.twimg.com/media/Cqkr0wiW8AAn2Oi.jpg   \n",
       "631   680940246314430465  https://pbs.twimg.com/media/CXMvio7WQAAPZJj.jpg   \n",
       "72    667211855547486208  https://pbs.twimg.com/media/CUJppKJWoAA75NP.jpg   \n",
       "\n",
       "      img_num                           p1   p1_conf  p1_dog  \\\n",
       "488         1           Scottish_deerhound  0.240591    True   \n",
       "110         1                   Pomeranian  0.800432    True   \n",
       "1397        1                         lion  0.396984   False   \n",
       "631         1  soft-coated_wheaten_terrier  0.289598    True   \n",
       "72          1             golden_retriever  0.462556    True   \n",
       "\n",
       "                               p2   p2_conf  p2_dog                     p3  \\\n",
       "488                   groenendael  0.156916    True  flat-coated_retriever   \n",
       "110                      Pekinese  0.168445    True              Chihuahua   \n",
       "1397                          ram  0.300851   False                cheetah   \n",
       "631   West_Highland_white_terrier  0.157195    True             toy_poodle   \n",
       "72             Labrador_retriever  0.454937    True                 kuvasz   \n",
       "\n",
       "       p3_conf  p3_dog  \n",
       "488   0.090899    True  \n",
       "110   0.008950    True  \n",
       "1397  0.094474   False  \n",
       "631   0.074435    True  \n",
       "72    0.024193    True  "
      ]
     },
     "execution_count": 46,
     "metadata": {},
     "output_type": "execute_result"
    }
   ],
   "source": [
    "# Afficher (05) observations aléatoires de df_image_prediction\n",
    "df_image_prediction.sample(5)"
   ]
  },
  {
   "cell_type": "code",
   "execution_count": 47,
   "id": "7584484a",
   "metadata": {},
   "outputs": [
    {
     "name": "stdout",
     "output_type": "stream",
     "text": [
      "<class 'pandas.core.frame.DataFrame'>\n",
      "RangeIndex: 2075 entries, 0 to 2074\n",
      "Data columns (total 12 columns):\n",
      " #   Column    Non-Null Count  Dtype  \n",
      "---  ------    --------------  -----  \n",
      " 0   tweet_id  2075 non-null   int64  \n",
      " 1   jpg_url   2075 non-null   object \n",
      " 2   img_num   2075 non-null   int64  \n",
      " 3   p1        2075 non-null   object \n",
      " 4   p1_conf   2075 non-null   float64\n",
      " 5   p1_dog    2075 non-null   bool   \n",
      " 6   p2        2075 non-null   object \n",
      " 7   p2_conf   2075 non-null   float64\n",
      " 8   p2_dog    2075 non-null   bool   \n",
      " 9   p3        2075 non-null   object \n",
      " 10  p3_conf   2075 non-null   float64\n",
      " 11  p3_dog    2075 non-null   bool   \n",
      "dtypes: bool(3), float64(3), int64(2), object(4)\n",
      "memory usage: 152.1+ KB\n"
     ]
    }
   ],
   "source": [
    "# Types et valeurs manquants de df_image_prediction\n",
    "df_image_prediction.info()"
   ]
  },
  {
   "cell_type": "code",
   "execution_count": 48,
   "id": "43b7a9fe",
   "metadata": {},
   "outputs": [
    {
     "data": {
      "text/plain": [
       "str"
      ]
     },
     "execution_count": 48,
     "metadata": {},
     "output_type": "execute_result"
    }
   ],
   "source": [
    "# Type de url de df_image_prediction\n",
    "type(df_image_prediction.jpg_url[0])"
   ]
  },
  {
   "cell_type": "code",
   "execution_count": 49,
   "id": "1fd3ca56",
   "metadata": {},
   "outputs": [
    {
     "data": {
      "text/plain": [
       "0"
      ]
     },
     "execution_count": 49,
     "metadata": {},
     "output_type": "execute_result"
    }
   ],
   "source": [
    "# Total des valeurs dupliquées de df_image_prediction\n",
    "df_image_prediction.duplicated().sum()"
   ]
  },
  {
   "cell_type": "markdown",
   "id": "ec99f85e",
   "metadata": {},
   "source": [
    "### C. Evaluation des Fichiers supplémentaires de l'API Twitter"
   ]
  },
  {
   "cell_type": "code",
   "execution_count": 50,
   "id": "4ac14943",
   "metadata": {},
   "outputs": [
    {
     "data": {
      "text/plain": [
       "Index(['created_at', 'id', 'id_str', 'full_text', 'truncated',\n",
       "       'display_text_range', 'entities', 'extended_entities', 'source',\n",
       "       'in_reply_to_status_id', 'in_reply_to_status_id_str',\n",
       "       'in_reply_to_user_id', 'in_reply_to_user_id_str',\n",
       "       'in_reply_to_screen_name', 'user', 'geo', 'coordinates', 'place',\n",
       "       'contributors', 'is_quote_status', 'retweet_count', 'favorite_count',\n",
       "       'favorited', 'retweeted', 'possibly_sensitive',\n",
       "       'possibly_sensitive_appealable', 'lang', 'retweeted_status',\n",
       "       'quoted_status_id', 'quoted_status_id_str', 'quoted_status'],\n",
       "      dtype='object')"
      ]
     },
     "execution_count": 50,
     "metadata": {},
     "output_type": "execute_result"
    }
   ],
   "source": [
    "# Différentes colonnes de df_tweet_json\n",
    "df_tweet_json.columns"
   ]
  },
  {
   "cell_type": "code",
   "execution_count": 51,
   "id": "c4728022",
   "metadata": {},
   "outputs": [],
   "source": [
    "# Créer un dataframe à partir de df_tweet_json contenant id, retweet_count et favorite_count\n",
    "df_tweet = pd.DataFrame(df_tweet_json, columns = ['id',\n",
    "                                                 'retweet_count',\n",
    "                                                 'favorite_count'])"
   ]
  },
  {
   "cell_type": "code",
   "execution_count": 52,
   "id": "7d7f0de9",
   "metadata": {},
   "outputs": [
    {
     "data": {
      "text/html": [
       "<div>\n",
       "<style scoped>\n",
       "    .dataframe tbody tr th:only-of-type {\n",
       "        vertical-align: middle;\n",
       "    }\n",
       "\n",
       "    .dataframe tbody tr th {\n",
       "        vertical-align: top;\n",
       "    }\n",
       "\n",
       "    .dataframe thead th {\n",
       "        text-align: right;\n",
       "    }\n",
       "</style>\n",
       "<table border=\"1\" class=\"dataframe\">\n",
       "  <thead>\n",
       "    <tr style=\"text-align: right;\">\n",
       "      <th></th>\n",
       "      <th>id</th>\n",
       "      <th>retweet_count</th>\n",
       "      <th>favorite_count</th>\n",
       "    </tr>\n",
       "  </thead>\n",
       "  <tbody>\n",
       "    <tr>\n",
       "      <th>0</th>\n",
       "      <td>892420643555336193</td>\n",
       "      <td>8853</td>\n",
       "      <td>39467</td>\n",
       "    </tr>\n",
       "    <tr>\n",
       "      <th>1</th>\n",
       "      <td>892177421306343426</td>\n",
       "      <td>6514</td>\n",
       "      <td>33819</td>\n",
       "    </tr>\n",
       "    <tr>\n",
       "      <th>2</th>\n",
       "      <td>891815181378084864</td>\n",
       "      <td>4328</td>\n",
       "      <td>25461</td>\n",
       "    </tr>\n",
       "    <tr>\n",
       "      <th>3</th>\n",
       "      <td>891689557279858688</td>\n",
       "      <td>8964</td>\n",
       "      <td>42908</td>\n",
       "    </tr>\n",
       "    <tr>\n",
       "      <th>4</th>\n",
       "      <td>891327558926688256</td>\n",
       "      <td>9774</td>\n",
       "      <td>41048</td>\n",
       "    </tr>\n",
       "  </tbody>\n",
       "</table>\n",
       "</div>"
      ],
      "text/plain": [
       "                   id  retweet_count  favorite_count\n",
       "0  892420643555336193           8853           39467\n",
       "1  892177421306343426           6514           33819\n",
       "2  891815181378084864           4328           25461\n",
       "3  891689557279858688           8964           42908\n",
       "4  891327558926688256           9774           41048"
      ]
     },
     "execution_count": 52,
     "metadata": {},
     "output_type": "execute_result"
    }
   ],
   "source": [
    "# Afficher les 05 premières observations de df_weet\n",
    "df_tweet.head()"
   ]
  },
  {
   "cell_type": "code",
   "execution_count": 53,
   "id": "15aace48",
   "metadata": {},
   "outputs": [
    {
     "data": {
      "text/html": [
       "<div>\n",
       "<style scoped>\n",
       "    .dataframe tbody tr th:only-of-type {\n",
       "        vertical-align: middle;\n",
       "    }\n",
       "\n",
       "    .dataframe tbody tr th {\n",
       "        vertical-align: top;\n",
       "    }\n",
       "\n",
       "    .dataframe thead th {\n",
       "        text-align: right;\n",
       "    }\n",
       "</style>\n",
       "<table border=\"1\" class=\"dataframe\">\n",
       "  <thead>\n",
       "    <tr style=\"text-align: right;\">\n",
       "      <th></th>\n",
       "      <th>id</th>\n",
       "      <th>retweet_count</th>\n",
       "      <th>favorite_count</th>\n",
       "    </tr>\n",
       "  </thead>\n",
       "  <tbody>\n",
       "    <tr>\n",
       "      <th>1515</th>\n",
       "      <td>690938899477221376</td>\n",
       "      <td>2245</td>\n",
       "      <td>4536</td>\n",
       "    </tr>\n",
       "    <tr>\n",
       "      <th>820</th>\n",
       "      <td>770093767776997377</td>\n",
       "      <td>3520</td>\n",
       "      <td>0</td>\n",
       "    </tr>\n",
       "    <tr>\n",
       "      <th>1285</th>\n",
       "      <td>708356463048204288</td>\n",
       "      <td>1520</td>\n",
       "      <td>3929</td>\n",
       "    </tr>\n",
       "    <tr>\n",
       "      <th>268</th>\n",
       "      <td>841320156043304961</td>\n",
       "      <td>6080</td>\n",
       "      <td>21402</td>\n",
       "    </tr>\n",
       "    <tr>\n",
       "      <th>1875</th>\n",
       "      <td>675109292475830276</td>\n",
       "      <td>1259</td>\n",
       "      <td>3006</td>\n",
       "    </tr>\n",
       "  </tbody>\n",
       "</table>\n",
       "</div>"
      ],
      "text/plain": [
       "                      id  retweet_count  favorite_count\n",
       "1515  690938899477221376           2245            4536\n",
       "820   770093767776997377           3520               0\n",
       "1285  708356463048204288           1520            3929\n",
       "268   841320156043304961           6080           21402\n",
       "1875  675109292475830276           1259            3006"
      ]
     },
     "execution_count": 53,
     "metadata": {},
     "output_type": "execute_result"
    }
   ],
   "source": [
    "# Afficher (05) observations par hasard de df_tweet\n",
    "df_tweet.sample(5)"
   ]
  },
  {
   "cell_type": "code",
   "execution_count": 54,
   "id": "20bf1469",
   "metadata": {},
   "outputs": [
    {
     "name": "stdout",
     "output_type": "stream",
     "text": [
      "<class 'pandas.core.frame.DataFrame'>\n",
      "RangeIndex: 2354 entries, 0 to 2353\n",
      "Data columns (total 3 columns):\n",
      " #   Column          Non-Null Count  Dtype\n",
      "---  ------          --------------  -----\n",
      " 0   id              2354 non-null   int64\n",
      " 1   retweet_count   2354 non-null   int64\n",
      " 2   favorite_count  2354 non-null   int64\n",
      "dtypes: int64(3)\n",
      "memory usage: 55.3 KB\n"
     ]
    }
   ],
   "source": [
    "# Type et manquants de df_tweet\n",
    "df_tweet.info()"
   ]
  },
  {
   "cell_type": "code",
   "execution_count": 55,
   "id": "cb25f23a",
   "metadata": {},
   "outputs": [
    {
     "data": {
      "text/plain": [
       "0"
      ]
     },
     "execution_count": 55,
     "metadata": {},
     "output_type": "execute_result"
    }
   ],
   "source": [
    "# Total des valeurs dupliquées de df_tweet\n",
    "df_tweet.duplicated().sum()"
   ]
  },
  {
   "cell_type": "code",
   "execution_count": 56,
   "id": "97ec0344",
   "metadata": {},
   "outputs": [
    {
     "data": {
      "text/html": [
       "<div>\n",
       "<style scoped>\n",
       "    .dataframe tbody tr th:only-of-type {\n",
       "        vertical-align: middle;\n",
       "    }\n",
       "\n",
       "    .dataframe tbody tr th {\n",
       "        vertical-align: top;\n",
       "    }\n",
       "\n",
       "    .dataframe thead th {\n",
       "        text-align: right;\n",
       "    }\n",
       "</style>\n",
       "<table border=\"1\" class=\"dataframe\">\n",
       "  <thead>\n",
       "    <tr style=\"text-align: right;\">\n",
       "      <th></th>\n",
       "      <th>tweet_id</th>\n",
       "      <th>retweet_count</th>\n",
       "      <th>favorite_count</th>\n",
       "    </tr>\n",
       "  </thead>\n",
       "  <tbody>\n",
       "    <tr>\n",
       "      <th>0</th>\n",
       "      <td>892420643555336193</td>\n",
       "      <td>8853</td>\n",
       "      <td>39467</td>\n",
       "    </tr>\n",
       "    <tr>\n",
       "      <th>1</th>\n",
       "      <td>892177421306343426</td>\n",
       "      <td>6514</td>\n",
       "      <td>33819</td>\n",
       "    </tr>\n",
       "    <tr>\n",
       "      <th>2</th>\n",
       "      <td>891815181378084864</td>\n",
       "      <td>4328</td>\n",
       "      <td>25461</td>\n",
       "    </tr>\n",
       "    <tr>\n",
       "      <th>3</th>\n",
       "      <td>891689557279858688</td>\n",
       "      <td>8964</td>\n",
       "      <td>42908</td>\n",
       "    </tr>\n",
       "    <tr>\n",
       "      <th>4</th>\n",
       "      <td>891327558926688256</td>\n",
       "      <td>9774</td>\n",
       "      <td>41048</td>\n",
       "    </tr>\n",
       "  </tbody>\n",
       "</table>\n",
       "</div>"
      ],
      "text/plain": [
       "             tweet_id  retweet_count  favorite_count\n",
       "0  892420643555336193           8853           39467\n",
       "1  892177421306343426           6514           33819\n",
       "2  891815181378084864           4328           25461\n",
       "3  891689557279858688           8964           42908\n",
       "4  891327558926688256           9774           41048"
      ]
     },
     "execution_count": 56,
     "metadata": {},
     "output_type": "execute_result"
    }
   ],
   "source": [
    "# Changer id de df_tweet par tweet_id\n",
    "df_tweet = df_tweet.rename(columns = {'id':'tweet_id'})\n",
    "df_tweet.head()"
   ]
  },
  {
   "cell_type": "code",
   "execution_count": 57,
   "id": "ef4bb8a6",
   "metadata": {},
   "outputs": [],
   "source": [
    "# Sauvegarder df_tweet sous un format csv\n",
    "df_tweet.to_csv('df_tweet.csv', index = False)"
   ]
  },
  {
   "cell_type": "code",
   "execution_count": 58,
   "id": "95ceaeea",
   "metadata": {},
   "outputs": [
    {
     "data": {
      "text/html": [
       "<div>\n",
       "<style scoped>\n",
       "    .dataframe tbody tr th:only-of-type {\n",
       "        vertical-align: middle;\n",
       "    }\n",
       "\n",
       "    .dataframe tbody tr th {\n",
       "        vertical-align: top;\n",
       "    }\n",
       "\n",
       "    .dataframe thead th {\n",
       "        text-align: right;\n",
       "    }\n",
       "</style>\n",
       "<table border=\"1\" class=\"dataframe\">\n",
       "  <thead>\n",
       "    <tr style=\"text-align: right;\">\n",
       "      <th></th>\n",
       "      <th>tweet_id</th>\n",
       "      <th>retweet_count</th>\n",
       "      <th>favorite_count</th>\n",
       "    </tr>\n",
       "  </thead>\n",
       "  <tbody>\n",
       "    <tr>\n",
       "      <th>0</th>\n",
       "      <td>892420643555336193</td>\n",
       "      <td>8853</td>\n",
       "      <td>39467</td>\n",
       "    </tr>\n",
       "    <tr>\n",
       "      <th>1</th>\n",
       "      <td>892177421306343426</td>\n",
       "      <td>6514</td>\n",
       "      <td>33819</td>\n",
       "    </tr>\n",
       "    <tr>\n",
       "      <th>2</th>\n",
       "      <td>891815181378084864</td>\n",
       "      <td>4328</td>\n",
       "      <td>25461</td>\n",
       "    </tr>\n",
       "    <tr>\n",
       "      <th>3</th>\n",
       "      <td>891689557279858688</td>\n",
       "      <td>8964</td>\n",
       "      <td>42908</td>\n",
       "    </tr>\n",
       "    <tr>\n",
       "      <th>4</th>\n",
       "      <td>891327558926688256</td>\n",
       "      <td>9774</td>\n",
       "      <td>41048</td>\n",
       "    </tr>\n",
       "  </tbody>\n",
       "</table>\n",
       "</div>"
      ],
      "text/plain": [
       "             tweet_id  retweet_count  favorite_count\n",
       "0  892420643555336193           8853           39467\n",
       "1  892177421306343426           6514           33819\n",
       "2  891815181378084864           4328           25461\n",
       "3  891689557279858688           8964           42908\n",
       "4  891327558926688256           9774           41048"
      ]
     },
     "execution_count": 58,
     "metadata": {},
     "output_type": "execute_result"
    }
   ],
   "source": [
    "# Vérifier si le fichier est bien enrégistrer sous format csv\n",
    "df_tweet_data = pd.read_csv('df_tweet.csv')\n",
    "df_tweet_data.head()"
   ]
  },
  {
   "cell_type": "markdown",
   "id": "3eb55f36",
   "metadata": {},
   "source": [
    "### 3.2 Problèmes de structures "
   ]
  },
  {
   "cell_type": "markdown",
   "id": "c4f4ddca",
   "metadata": {},
   "source": [
    "- Les noms des espéces de chiens (doggo, floofer, pupper, puppo) sont séparés en quatre (04) colonnes différentes.\n",
    "- Toutes ces bases de données sont liées mais séparées en trois (03) bases de données distinctes."
   ]
  },
  {
   "cell_type": "markdown",
   "id": "9729afc3",
   "metadata": {},
   "source": [
    "### 3.3 Problèmes de qualités"
   ]
  },
  {
   "cell_type": "markdown",
   "id": "ab3d9868",
   "metadata": {},
   "source": [
    "### A. Les Archives Améliorées de Twitter"
   ]
  },
  {
   "cell_type": "markdown",
   "id": "9466e846",
   "metadata": {},
   "source": [
    "- tweet_id doit être \"string\" et non \"int\".\n",
    "- Certaines valeurs dans la colonne rating_denominator ne sont pas \"10\".\n",
    "- certaines valeurs dans la colonne rating_numerator sont inférieures à \"10\"\n",
    "- Certaines valeurs dans la colonne rating_numerator = zéro.\n",
    "- Timestamp doit être sous format \"data time\" et non \"str\".\n",
    "- retweeted_status_id doit être supprimé car nous nous intéressons au tweet.\n",
    "- retweeted_status_user_id doit être supprimé car nous nous intéressons au tweet.\n",
    "- retweeted_status_timestamp doit être supprimé car nous nous intéressons au tweet.\n",
    "- Les valeurs nulles sont représentées par (None) dans la colonne de name."
   ]
  },
  {
   "cell_type": "markdown",
   "id": "e5c40729",
   "metadata": {},
   "source": [
    "### B. Les Images Prédictives"
   ]
  },
  {
   "cell_type": "markdown",
   "id": "e002a7aa",
   "metadata": {},
   "source": [
    "- tweet_id doit être \"string\" et non \"int\"\n",
    "- Les noms p colonnes ont une lettre majuscule et une lettre minuscule"
   ]
  },
  {
   "cell_type": "markdown",
   "id": "e9950aa1",
   "metadata": {},
   "source": [
    "### C. Les Fichiers supplémenataires de Twitter"
   ]
  },
  {
   "cell_type": "markdown",
   "id": "ed223348",
   "metadata": {},
   "source": [
    "- L'identifian de la colonne name doit être \"tweet_id\" au lieu de \"id\"\n",
    "- tweet_id doit être \"string\" et non \"int\""
   ]
  },
  {
   "cell_type": "markdown",
   "id": "cece0747",
   "metadata": {},
   "source": [
    "### 4. Nettoyage des données"
   ]
  },
  {
   "cell_type": "markdown",
   "id": "ee24ef20",
   "metadata": {},
   "source": [
    "### A. Copie des bases"
   ]
  },
  {
   "cell_type": "code",
   "execution_count": 59,
   "id": "9b594da1",
   "metadata": {},
   "outputs": [],
   "source": [
    "# Copie de chacunes de ces bases\n",
    "clean_archive = df_twitter_archive.copy()\n",
    "clean_image = df_image_prediction.copy()\n",
    "clean_tweet = df_tweet_data.copy()"
   ]
  },
  {
   "cell_type": "markdown",
   "id": "4a020fb1",
   "metadata": {},
   "source": [
    "### B. Résolution des problèmes de structures"
   ]
  },
  {
   "cell_type": "markdown",
   "id": "c8732027",
   "metadata": {},
   "source": [
    "- **Les noms des espéces de chiens (doggo, floofer, pupper, puppo) sont séparés en quatre (04) colonnes différentes.**"
   ]
  },
  {
   "cell_type": "markdown",
   "id": "a6c5139b",
   "metadata": {},
   "source": [
    "#### Définir"
   ]
  },
  {
   "cell_type": "markdown",
   "id": "73ef10a7",
   "metadata": {},
   "source": [
    "Combiner les quatre (04) colonnes en une seule appelée dog_stage."
   ]
  },
  {
   "cell_type": "markdown",
   "id": "32d498f8",
   "metadata": {},
   "source": [
    "#### Code"
   ]
  },
  {
   "cell_type": "code",
   "execution_count": 60,
   "id": "19b234f9",
   "metadata": {},
   "outputs": [
    {
     "data": {
      "text/html": [
       "<div>\n",
       "<style scoped>\n",
       "    .dataframe tbody tr th:only-of-type {\n",
       "        vertical-align: middle;\n",
       "    }\n",
       "\n",
       "    .dataframe tbody tr th {\n",
       "        vertical-align: top;\n",
       "    }\n",
       "\n",
       "    .dataframe thead th {\n",
       "        text-align: right;\n",
       "    }\n",
       "</style>\n",
       "<table border=\"1\" class=\"dataframe\">\n",
       "  <thead>\n",
       "    <tr style=\"text-align: right;\">\n",
       "      <th></th>\n",
       "      <th>tweet_id</th>\n",
       "      <th>in_reply_to_status_id</th>\n",
       "      <th>in_reply_to_user_id</th>\n",
       "      <th>timestamp</th>\n",
       "      <th>source</th>\n",
       "      <th>text</th>\n",
       "      <th>retweeted_status_id</th>\n",
       "      <th>retweeted_status_user_id</th>\n",
       "      <th>retweeted_status_timestamp</th>\n",
       "      <th>expanded_urls</th>\n",
       "      <th>rating_numerator</th>\n",
       "      <th>rating_denominator</th>\n",
       "      <th>name</th>\n",
       "      <th>doggo</th>\n",
       "      <th>floofer</th>\n",
       "      <th>pupper</th>\n",
       "      <th>puppo</th>\n",
       "      <th>dog_stage</th>\n",
       "    </tr>\n",
       "  </thead>\n",
       "  <tbody>\n",
       "    <tr>\n",
       "      <th>0</th>\n",
       "      <td>892420643555336193</td>\n",
       "      <td>NaN</td>\n",
       "      <td>NaN</td>\n",
       "      <td>2017-08-01 16:23:56 +0000</td>\n",
       "      <td>&lt;a href=\"http://twitter.com/download/iphone\" r...</td>\n",
       "      <td>This is Phineas. He's a mystical boy. Only eve...</td>\n",
       "      <td>NaN</td>\n",
       "      <td>NaN</td>\n",
       "      <td>NaN</td>\n",
       "      <td>https://twitter.com/dog_rates/status/892420643...</td>\n",
       "      <td>13</td>\n",
       "      <td>10</td>\n",
       "      <td>Phineas</td>\n",
       "      <td>None</td>\n",
       "      <td>None</td>\n",
       "      <td>None</td>\n",
       "      <td>None</td>\n",
       "      <td>NaN</td>\n",
       "    </tr>\n",
       "    <tr>\n",
       "      <th>1</th>\n",
       "      <td>892177421306343426</td>\n",
       "      <td>NaN</td>\n",
       "      <td>NaN</td>\n",
       "      <td>2017-08-01 00:17:27 +0000</td>\n",
       "      <td>&lt;a href=\"http://twitter.com/download/iphone\" r...</td>\n",
       "      <td>This is Tilly. She's just checking pup on you....</td>\n",
       "      <td>NaN</td>\n",
       "      <td>NaN</td>\n",
       "      <td>NaN</td>\n",
       "      <td>https://twitter.com/dog_rates/status/892177421...</td>\n",
       "      <td>13</td>\n",
       "      <td>10</td>\n",
       "      <td>Tilly</td>\n",
       "      <td>None</td>\n",
       "      <td>None</td>\n",
       "      <td>None</td>\n",
       "      <td>None</td>\n",
       "      <td>NaN</td>\n",
       "    </tr>\n",
       "    <tr>\n",
       "      <th>2</th>\n",
       "      <td>891815181378084864</td>\n",
       "      <td>NaN</td>\n",
       "      <td>NaN</td>\n",
       "      <td>2017-07-31 00:18:03 +0000</td>\n",
       "      <td>&lt;a href=\"http://twitter.com/download/iphone\" r...</td>\n",
       "      <td>This is Archie. He is a rare Norwegian Pouncin...</td>\n",
       "      <td>NaN</td>\n",
       "      <td>NaN</td>\n",
       "      <td>NaN</td>\n",
       "      <td>https://twitter.com/dog_rates/status/891815181...</td>\n",
       "      <td>12</td>\n",
       "      <td>10</td>\n",
       "      <td>Archie</td>\n",
       "      <td>None</td>\n",
       "      <td>None</td>\n",
       "      <td>None</td>\n",
       "      <td>None</td>\n",
       "      <td>NaN</td>\n",
       "    </tr>\n",
       "  </tbody>\n",
       "</table>\n",
       "</div>"
      ],
      "text/plain": [
       "             tweet_id  in_reply_to_status_id  in_reply_to_user_id  \\\n",
       "0  892420643555336193                    NaN                  NaN   \n",
       "1  892177421306343426                    NaN                  NaN   \n",
       "2  891815181378084864                    NaN                  NaN   \n",
       "\n",
       "                   timestamp  \\\n",
       "0  2017-08-01 16:23:56 +0000   \n",
       "1  2017-08-01 00:17:27 +0000   \n",
       "2  2017-07-31 00:18:03 +0000   \n",
       "\n",
       "                                              source  \\\n",
       "0  <a href=\"http://twitter.com/download/iphone\" r...   \n",
       "1  <a href=\"http://twitter.com/download/iphone\" r...   \n",
       "2  <a href=\"http://twitter.com/download/iphone\" r...   \n",
       "\n",
       "                                                text  retweeted_status_id  \\\n",
       "0  This is Phineas. He's a mystical boy. Only eve...                  NaN   \n",
       "1  This is Tilly. She's just checking pup on you....                  NaN   \n",
       "2  This is Archie. He is a rare Norwegian Pouncin...                  NaN   \n",
       "\n",
       "   retweeted_status_user_id retweeted_status_timestamp  \\\n",
       "0                       NaN                        NaN   \n",
       "1                       NaN                        NaN   \n",
       "2                       NaN                        NaN   \n",
       "\n",
       "                                       expanded_urls  rating_numerator  \\\n",
       "0  https://twitter.com/dog_rates/status/892420643...                13   \n",
       "1  https://twitter.com/dog_rates/status/892177421...                13   \n",
       "2  https://twitter.com/dog_rates/status/891815181...                12   \n",
       "\n",
       "   rating_denominator     name doggo floofer pupper puppo dog_stage  \n",
       "0                  10  Phineas  None    None   None  None       NaN  \n",
       "1                  10    Tilly  None    None   None  None       NaN  \n",
       "2                  10   Archie  None    None   None  None       NaN  "
      ]
     },
     "execution_count": 60,
     "metadata": {},
     "output_type": "execute_result"
    }
   ],
   "source": [
    "# Combiner les (04) colonnes\n",
    "clean_archive['dog_stage'] = clean_archive['text'].str.extract('(doggo|floofer|pupper|puppo)')\n",
    "clean_archive.head(3)"
   ]
  },
  {
   "cell_type": "code",
   "execution_count": 61,
   "id": "866fc0d1",
   "metadata": {},
   "outputs": [],
   "source": [
    "# Supprimer les colonnes doggo floofer pupper et puppo\n",
    "clean_archive = clean_archive.drop(columns = ['doggo', 'floofer', 'pupper', 'puppo'])"
   ]
  },
  {
   "cell_type": "markdown",
   "id": "b66c63b4",
   "metadata": {},
   "source": [
    "#### Tester"
   ]
  },
  {
   "cell_type": "code",
   "execution_count": 65,
   "id": "cde0328c",
   "metadata": {},
   "outputs": [
    {
     "data": {
      "text/plain": [
       "pupper     265\n",
       "doggo       93\n",
       "puppo       37\n",
       "floofer      4\n",
       "Name: dog_stage, dtype: int64"
      ]
     },
     "execution_count": 65,
     "metadata": {},
     "output_type": "execute_result"
    }
   ],
   "source": [
    "# Les différentes catégories de dog_stage\n",
    "clean_archive['dog_stage'].value_counts()"
   ]
  },
  {
   "cell_type": "markdown",
   "id": "3485bb4e",
   "metadata": {},
   "source": [
    "- **Toutes nos données sont liées mais séparées en trois (03) bases de données.**"
   ]
  },
  {
   "cell_type": "markdown",
   "id": "dcb99a66",
   "metadata": {},
   "source": [
    "#### Définir"
   ]
  },
  {
   "cell_type": "markdown",
   "id": "99f6ebe9",
   "metadata": {},
   "source": [
    "Combiner ces (03) dataframes en une seule base."
   ]
  },
  {
   "cell_type": "markdown",
   "id": "af0e2d8e",
   "metadata": {},
   "source": [
    "#### Coder"
   ]
  },
  {
   "cell_type": "code",
   "execution_count": 63,
   "id": "95e22299",
   "metadata": {},
   "outputs": [],
   "source": [
    "# Fusionner les bases clean_archive et clean_tweet\n",
    "clean_archive_df = pd.merge(clean_archive, clean_tweet, on = 'tweet_id', how = 'left')"
   ]
  },
  {
   "cell_type": "code",
   "execution_count": 64,
   "id": "b8f42fbe",
   "metadata": {},
   "outputs": [],
   "source": [
    "# Fusionner clean_df et clean_image\n",
    "clean_archive_data = pd.merge(clean_archive_df, clean_image, on = 'tweet_id', how = 'left')"
   ]
  },
  {
   "cell_type": "markdown",
   "id": "8acc5d2a",
   "metadata": {},
   "source": [
    "#### Tester"
   ]
  },
  {
   "cell_type": "code",
   "execution_count": 66,
   "id": "77bee016",
   "metadata": {},
   "outputs": [
    {
     "name": "stdout",
     "output_type": "stream",
     "text": [
      "<class 'pandas.core.frame.DataFrame'>\n",
      "Int64Index: 2356 entries, 0 to 2355\n",
      "Data columns (total 27 columns):\n",
      " #   Column                      Non-Null Count  Dtype  \n",
      "---  ------                      --------------  -----  \n",
      " 0   tweet_id                    2356 non-null   int64  \n",
      " 1   in_reply_to_status_id       78 non-null     float64\n",
      " 2   in_reply_to_user_id         78 non-null     float64\n",
      " 3   timestamp                   2356 non-null   object \n",
      " 4   source                      2356 non-null   object \n",
      " 5   text                        2356 non-null   object \n",
      " 6   retweeted_status_id         181 non-null    float64\n",
      " 7   retweeted_status_user_id    181 non-null    float64\n",
      " 8   retweeted_status_timestamp  181 non-null    object \n",
      " 9   expanded_urls               2297 non-null   object \n",
      " 10  rating_numerator            2356 non-null   int64  \n",
      " 11  rating_denominator          2356 non-null   int64  \n",
      " 12  name                        2356 non-null   object \n",
      " 13  dog_stage                   399 non-null    object \n",
      " 14  retweet_count               2354 non-null   float64\n",
      " 15  favorite_count              2354 non-null   float64\n",
      " 16  jpg_url                     2075 non-null   object \n",
      " 17  img_num                     2075 non-null   float64\n",
      " 18  p1                          2075 non-null   object \n",
      " 19  p1_conf                     2075 non-null   float64\n",
      " 20  p1_dog                      2075 non-null   object \n",
      " 21  p2                          2075 non-null   object \n",
      " 22  p2_conf                     2075 non-null   float64\n",
      " 23  p2_dog                      2075 non-null   object \n",
      " 24  p3                          2075 non-null   object \n",
      " 25  p3_conf                     2075 non-null   float64\n",
      " 26  p3_dog                      2075 non-null   object \n",
      "dtypes: float64(10), int64(3), object(14)\n",
      "memory usage: 515.4+ KB\n"
     ]
    }
   ],
   "source": [
    "# Description sommaire de clean_archive_data\n",
    "clean_archive_data.info()"
   ]
  },
  {
   "cell_type": "markdown",
   "id": "2248b0ea",
   "metadata": {},
   "source": [
    "### C. Résolution des problèmes de qualités"
   ]
  },
  {
   "cell_type": "markdown",
   "id": "a40fd1cf",
   "metadata": {},
   "source": [
    "- **tweet_id doit être \"string\" et non \"int\".**"
   ]
  },
  {
   "cell_type": "markdown",
   "id": "4380fa3a",
   "metadata": {},
   "source": [
    "#### Définir"
   ]
  },
  {
   "cell_type": "markdown",
   "id": "3b867164",
   "metadata": {},
   "source": [
    "Convertissons tweet_id en chaîne."
   ]
  },
  {
   "cell_type": "markdown",
   "id": "35c3e9cf",
   "metadata": {},
   "source": [
    "#### Coder"
   ]
  },
  {
   "cell_type": "code",
   "execution_count": 68,
   "id": "a1cca2d6",
   "metadata": {},
   "outputs": [],
   "source": [
    "# Convertir tweet_id en chaîne de caractère\n",
    "clean_archive_data.tweet_id = clean_archive_data.tweet_id.astype(str)"
   ]
  },
  {
   "cell_type": "markdown",
   "id": "ccc6b50f",
   "metadata": {},
   "source": [
    "#### Tester"
   ]
  },
  {
   "cell_type": "code",
   "execution_count": 70,
   "id": "378949e8",
   "metadata": {},
   "outputs": [
    {
     "name": "stdout",
     "output_type": "stream",
     "text": [
      "<class 'pandas.core.frame.DataFrame'>\n",
      "Int64Index: 2356 entries, 0 to 2355\n",
      "Data columns (total 27 columns):\n",
      " #   Column                      Non-Null Count  Dtype  \n",
      "---  ------                      --------------  -----  \n",
      " 0   tweet_id                    2356 non-null   object \n",
      " 1   in_reply_to_status_id       78 non-null     float64\n",
      " 2   in_reply_to_user_id         78 non-null     float64\n",
      " 3   timestamp                   2356 non-null   object \n",
      " 4   source                      2356 non-null   object \n",
      " 5   text                        2356 non-null   object \n",
      " 6   retweeted_status_id         181 non-null    float64\n",
      " 7   retweeted_status_user_id    181 non-null    float64\n",
      " 8   retweeted_status_timestamp  181 non-null    object \n",
      " 9   expanded_urls               2297 non-null   object \n",
      " 10  rating_numerator            2356 non-null   int64  \n",
      " 11  rating_denominator          2356 non-null   int64  \n",
      " 12  name                        2356 non-null   object \n",
      " 13  dog_stage                   399 non-null    object \n",
      " 14  retweet_count               2354 non-null   float64\n",
      " 15  favorite_count              2354 non-null   float64\n",
      " 16  jpg_url                     2075 non-null   object \n",
      " 17  img_num                     2075 non-null   float64\n",
      " 18  p1                          2075 non-null   object \n",
      " 19  p1_conf                     2075 non-null   float64\n",
      " 20  p1_dog                      2075 non-null   object \n",
      " 21  p2                          2075 non-null   object \n",
      " 22  p2_conf                     2075 non-null   float64\n",
      " 23  p2_dog                      2075 non-null   object \n",
      " 24  p3                          2075 non-null   object \n",
      " 25  p3_conf                     2075 non-null   float64\n",
      " 26  p3_dog                      2075 non-null   object \n",
      "dtypes: float64(10), int64(2), object(15)\n",
      "memory usage: 515.4+ KB\n"
     ]
    }
   ],
   "source": [
    "# Vérifier alors le type de tweet_id\n",
    "clean_archive_data.info()"
   ]
  },
  {
   "cell_type": "markdown",
   "id": "94eaae49",
   "metadata": {},
   "source": [
    "- **Certaines valeurs dans la colonne rating_denominator ne sont pas \"10\".**"
   ]
  },
  {
   "cell_type": "markdown",
   "id": "7cdb4841",
   "metadata": {},
   "source": [
    "#### Définir"
   ]
  },
  {
   "cell_type": "markdown",
   "id": "8177984f",
   "metadata": {},
   "source": [
    "Remplacer toutes valeurs inférieures à 10 par 10."
   ]
  },
  {
   "cell_type": "markdown",
   "id": "461b0fef",
   "metadata": {},
   "source": [
    "#### Coder"
   ]
  },
  {
   "cell_type": "code",
   "execution_count": 71,
   "id": "cff5586a",
   "metadata": {},
   "outputs": [],
   "source": [
    "clean_archive_data.rating_denominator = clean_archive_data.rating_denominator.replace( range(0,1000) , 10 ) "
   ]
  },
  {
   "cell_type": "markdown",
   "id": "620044f9",
   "metadata": {},
   "source": [
    "#### Tester"
   ]
  },
  {
   "cell_type": "code",
   "execution_count": 72,
   "id": "af32f475",
   "metadata": {},
   "outputs": [
    {
     "data": {
      "text/plain": [
       "10    2356\n",
       "Name: rating_denominator, dtype: int64"
      ]
     },
     "execution_count": 72,
     "metadata": {},
     "output_type": "execute_result"
    }
   ],
   "source": [
    "clean_archive_data.rating_denominator.value_counts()"
   ]
  },
  {
   "cell_type": "markdown",
   "id": "03e74fb1",
   "metadata": {},
   "source": [
    "- **Certaines valeurs dans la colonne rating_numerator sont inférieures à \"10\".**\n",
    "- **Certaines valeurs dans la colonne rating_numerator = zéro.**"
   ]
  },
  {
   "cell_type": "markdown",
   "id": "18c6e37b",
   "metadata": {},
   "source": [
    "#### Définir"
   ]
  },
  {
   "cell_type": "markdown",
   "id": "132287a8",
   "metadata": {},
   "source": [
    "Ajouter 10 pour corriger ces valeurs."
   ]
  },
  {
   "cell_type": "markdown",
   "id": "2eba9f46",
   "metadata": {},
   "source": [
    "#### Coder"
   ]
  },
  {
   "cell_type": "code",
   "execution_count": 73,
   "id": "59b79fff",
   "metadata": {},
   "outputs": [
    {
     "name": "stderr",
     "output_type": "stream",
     "text": [
      "C:\\Users\\Amen ANONWODJI\\AppData\\Local\\Temp\\ipykernel_9096\\1116327963.py:1: SettingWithCopyWarning: \n",
      "A value is trying to be set on a copy of a slice from a DataFrame\n",
      "\n",
      "See the caveats in the documentation: https://pandas.pydata.org/pandas-docs/stable/user_guide/indexing.html#returning-a-view-versus-a-copy\n",
      "  clean_archive_data.rating_numerator[clean_archive_data['rating_numerator'] <= 10 ] = clean_archive_data.rating_numerator[clean_archive_data['rating_numerator'] <= 10 ].add(10)\n"
     ]
    }
   ],
   "source": [
    "clean_archive_data.rating_numerator[clean_archive_data['rating_numerator'] <= 10 ] = clean_archive_data.rating_numerator[clean_archive_data['rating_numerator'] <= 10 ].add(10)"
   ]
  },
  {
   "cell_type": "markdown",
   "id": "d242ac17",
   "metadata": {},
   "source": [
    "#### Tester"
   ]
  },
  {
   "cell_type": "code",
   "execution_count": 74,
   "id": "7ee22725",
   "metadata": {},
   "outputs": [
    {
     "data": {
      "text/plain": [
       "12      567\n",
       "11      473\n",
       "20      462\n",
       "13      370\n",
       "19      158\n",
       "18      102\n",
       "14       71\n",
       "17       56\n",
       "15       39\n",
       "16       32\n",
       "420       2\n",
       "10        2\n",
       "75        2\n",
       "45        1\n",
       "60        1\n",
       "44        1\n",
       "121       1\n",
       "143       1\n",
       "99        1\n",
       "26        1\n",
       "144       1\n",
       "80        1\n",
       "24        1\n",
       "50        1\n",
       "204       1\n",
       "1776      1\n",
       "165       1\n",
       "27        1\n",
       "84        1\n",
       "960       1\n",
       "182       1\n",
       "666       1\n",
       "88        1\n",
       "Name: rating_numerator, dtype: int64"
      ]
     },
     "execution_count": 74,
     "metadata": {},
     "output_type": "execute_result"
    }
   ],
   "source": [
    "clean_archive_data.rating_numerator.value_counts()"
   ]
  },
  {
   "cell_type": "markdown",
   "id": "8dc9aac0",
   "metadata": {},
   "source": [
    "- **timestamp doit être en format date.**"
   ]
  },
  {
   "cell_type": "markdown",
   "id": "f19965d6",
   "metadata": {},
   "source": [
    "#### Définir"
   ]
  },
  {
   "cell_type": "markdown",
   "id": "fd77e80a",
   "metadata": {},
   "source": [
    "Convertir timestamp sous format date."
   ]
  },
  {
   "cell_type": "markdown",
   "id": "881d89db",
   "metadata": {},
   "source": [
    "#### Coder"
   ]
  },
  {
   "cell_type": "code",
   "execution_count": 75,
   "id": "6173c47b",
   "metadata": {},
   "outputs": [],
   "source": [
    "clean_archive_data['timestamp']= pd.to_datetime(clean_archive_data['timestamp'])"
   ]
  },
  {
   "cell_type": "markdown",
   "id": "1aff9ea9",
   "metadata": {},
   "source": [
    "#### Tester"
   ]
  },
  {
   "cell_type": "code",
   "execution_count": 78,
   "id": "655d3366",
   "metadata": {},
   "outputs": [
    {
     "data": {
      "text/plain": [
       "pandas._libs.tslibs.timestamps.Timestamp"
      ]
     },
     "execution_count": 78,
     "metadata": {},
     "output_type": "execute_result"
    }
   ],
   "source": [
    "type(clean_archive_data['timestamp'][0])"
   ]
  },
  {
   "cell_type": "markdown",
   "id": "284c975f",
   "metadata": {},
   "source": [
    "- **retweeted_status_id doit être supprimé car nous nous intéressons au tweet.**\n",
    "- **retweeted_status_user_id doit être supprimé car nous nous intéressons au tweet.**\n",
    "- **retweeted_status_timestamp doit être supprimé car nous nous intéressons au tweet.**"
   ]
  },
  {
   "cell_type": "markdown",
   "id": "22880f2b",
   "metadata": {},
   "source": [
    "#### Définir"
   ]
  },
  {
   "cell_type": "markdown",
   "id": "3d9b032b",
   "metadata": {},
   "source": [
    "Supprimer toutes ces colonnes."
   ]
  },
  {
   "cell_type": "markdown",
   "id": "f38bb7ba",
   "metadata": {},
   "source": [
    "#### Coder"
   ]
  },
  {
   "cell_type": "code",
   "execution_count": 79,
   "id": "3fc63d1b",
   "metadata": {},
   "outputs": [],
   "source": [
    "clean_archive_data = clean_archive_data.drop(columns=['retweeted_status_id' , 'retweeted_status_user_id' , 'retweeted_status_timestamp'])"
   ]
  },
  {
   "cell_type": "markdown",
   "id": "d656879b",
   "metadata": {},
   "source": [
    "#### Tester"
   ]
  },
  {
   "cell_type": "code",
   "execution_count": 80,
   "id": "df010697",
   "metadata": {},
   "outputs": [
    {
     "data": {
      "text/plain": [
       "Index(['tweet_id', 'in_reply_to_status_id', 'in_reply_to_user_id', 'timestamp',\n",
       "       'source', 'text', 'expanded_urls', 'rating_numerator',\n",
       "       'rating_denominator', 'name', 'dog_stage', 'retweet_count',\n",
       "       'favorite_count', 'jpg_url', 'img_num', 'p1', 'p1_conf', 'p1_dog', 'p2',\n",
       "       'p2_conf', 'p2_dog', 'p3', 'p3_conf', 'p3_dog'],\n",
       "      dtype='object')"
      ]
     },
     "execution_count": 80,
     "metadata": {},
     "output_type": "execute_result"
    }
   ],
   "source": [
    "# Différentes variables de clean_archive_data\n",
    "clean_archive_data.columns"
   ]
  },
  {
   "cell_type": "code",
   "execution_count": 81,
   "id": "305cfbc4",
   "metadata": {},
   "outputs": [
    {
     "name": "stdout",
     "output_type": "stream",
     "text": [
      "<class 'pandas.core.frame.DataFrame'>\n",
      "Int64Index: 2356 entries, 0 to 2355\n",
      "Data columns (total 24 columns):\n",
      " #   Column                 Non-Null Count  Dtype              \n",
      "---  ------                 --------------  -----              \n",
      " 0   tweet_id               2356 non-null   object             \n",
      " 1   in_reply_to_status_id  78 non-null     float64            \n",
      " 2   in_reply_to_user_id    78 non-null     float64            \n",
      " 3   timestamp              2356 non-null   datetime64[ns, UTC]\n",
      " 4   source                 2356 non-null   object             \n",
      " 5   text                   2356 non-null   object             \n",
      " 6   expanded_urls          2297 non-null   object             \n",
      " 7   rating_numerator       2356 non-null   int64              \n",
      " 8   rating_denominator     2356 non-null   int64              \n",
      " 9   name                   2356 non-null   object             \n",
      " 10  dog_stage              399 non-null    object             \n",
      " 11  retweet_count          2354 non-null   float64            \n",
      " 12  favorite_count         2354 non-null   float64            \n",
      " 13  jpg_url                2075 non-null   object             \n",
      " 14  img_num                2075 non-null   float64            \n",
      " 15  p1                     2075 non-null   object             \n",
      " 16  p1_conf                2075 non-null   float64            \n",
      " 17  p1_dog                 2075 non-null   object             \n",
      " 18  p2                     2075 non-null   object             \n",
      " 19  p2_conf                2075 non-null   float64            \n",
      " 20  p2_dog                 2075 non-null   object             \n",
      " 21  p3                     2075 non-null   object             \n",
      " 22  p3_conf                2075 non-null   float64            \n",
      " 23  p3_dog                 2075 non-null   object             \n",
      "dtypes: datetime64[ns, UTC](1), float64(8), int64(2), object(13)\n",
      "memory usage: 524.7+ KB\n"
     ]
    }
   ],
   "source": [
    "# Description sommaire de clean_archive_data\n",
    "clean_archive_data.info()"
   ]
  },
  {
   "cell_type": "markdown",
   "id": "48873955",
   "metadata": {},
   "source": [
    "- **Les valeurs nulles sont représentées par (None) dans la colonne de name.**"
   ]
  },
  {
   "cell_type": "markdown",
   "id": "4330a55f",
   "metadata": {},
   "source": [
    "#### Définir"
   ]
  },
  {
   "cell_type": "markdown",
   "id": "690aaece",
   "metadata": {},
   "source": [
    "Remplacez ces valeurs par des valeurs nulles en utilisant la méthode de remplacement et la méthode numpy nan."
   ]
  },
  {
   "cell_type": "markdown",
   "id": "5e2b0c92",
   "metadata": {},
   "source": [
    "#### Coder"
   ]
  },
  {
   "cell_type": "code",
   "execution_count": 82,
   "id": "08d812d7",
   "metadata": {},
   "outputs": [],
   "source": [
    "# Remplacer les valeurs nulles par Nan\n",
    "clean_archive_data.name = clean_archive_data.name.replace(\"None\", value = np.nan )"
   ]
  },
  {
   "cell_type": "markdown",
   "id": "8d69e802",
   "metadata": {},
   "source": [
    "#### Tester"
   ]
  },
  {
   "cell_type": "code",
   "execution_count": 83,
   "id": "79c70c4e",
   "metadata": {},
   "outputs": [
    {
     "data": {
      "text/plain": [
       "745"
      ]
     },
     "execution_count": 83,
     "metadata": {},
     "output_type": "execute_result"
    }
   ],
   "source": [
    "# Total de valeurs nulles\n",
    "clean_archive_data.name.isnull().sum()"
   ]
  },
  {
   "cell_type": "markdown",
   "id": "9b5b100c",
   "metadata": {},
   "source": [
    "- **Certaines lettres en p commencent par une lettre majuscule tandis que d'autres sont en minuscule.**"
   ]
  },
  {
   "cell_type": "markdown",
   "id": "debf6d6d",
   "metadata": {},
   "source": [
    "#### Définir"
   ]
  },
  {
   "cell_type": "markdown",
   "id": "66b72e31",
   "metadata": {},
   "source": [
    "Convertir les lettres miniscules en majuscules."
   ]
  },
  {
   "cell_type": "markdown",
   "id": "1e58c714",
   "metadata": {},
   "source": [
    "#### Coder"
   ]
  },
  {
   "cell_type": "code",
   "execution_count": 84,
   "id": "42988a77",
   "metadata": {},
   "outputs": [],
   "source": [
    "# Conversion\n",
    "clean_archive_data.p1 = clean_archive_data.p1.str.replace('_', ' ')\n",
    "clean_archive_data.p2 = clean_archive_data.p2.str.replace('_', ' ')\n",
    "clean_archive_data.p3 = clean_archive_data.p3.str.replace('_', ' ')"
   ]
  },
  {
   "cell_type": "markdown",
   "id": "61b34e73",
   "metadata": {},
   "source": [
    "#### Tester"
   ]
  },
  {
   "cell_type": "code",
   "execution_count": 85,
   "id": "56fe1f66",
   "metadata": {},
   "outputs": [
    {
     "data": {
      "text/plain": [
       "0         orange\n",
       "1      Chihuahua\n",
       "2      Chihuahua\n",
       "3    paper towel\n",
       "4         basset\n",
       "Name: p1, dtype: object"
      ]
     },
     "execution_count": 85,
     "metadata": {},
     "output_type": "execute_result"
    }
   ],
   "source": [
    "clean_archive_data.p1.head(5)"
   ]
  },
  {
   "cell_type": "code",
   "execution_count": 86,
   "id": "153dbaed",
   "metadata": {},
   "outputs": [
    {
     "data": {
      "text/plain": [
       "0                 bagel\n",
       "1              Pekinese\n",
       "2              malamute\n",
       "3    Labrador retriever\n",
       "4      English springer\n",
       "Name: p2, dtype: object"
      ]
     },
     "execution_count": 86,
     "metadata": {},
     "output_type": "execute_result"
    }
   ],
   "source": [
    "clean_archive_data.p2.head(5)"
   ]
  },
  {
   "cell_type": "code",
   "execution_count": 87,
   "id": "b67e4e33",
   "metadata": {},
   "outputs": [
    {
     "data": {
      "text/plain": [
       "0                         banana\n",
       "1                       papillon\n",
       "2                         kelpie\n",
       "3                        spatula\n",
       "4    German short-haired pointer\n",
       "Name: p3, dtype: object"
      ]
     },
     "execution_count": 87,
     "metadata": {},
     "output_type": "execute_result"
    }
   ],
   "source": [
    "clean_archive_data.p3.head(5)"
   ]
  },
  {
   "cell_type": "markdown",
   "id": "29feffb5",
   "metadata": {},
   "source": [
    "### 5. Stockage de données"
   ]
  },
  {
   "cell_type": "code",
   "execution_count": 88,
   "id": "4815a91b",
   "metadata": {},
   "outputs": [],
   "source": [
    "# Enrégistrer sous format csv au nom de twitter_archive.csv\n",
    "clean_archive_data.to_csv('twitter_archive_master.csv')"
   ]
  },
  {
   "cell_type": "markdown",
   "id": "2e214c12",
   "metadata": {},
   "source": [
    "### 6. Analyse de données et Visualisation"
   ]
  },
  {
   "cell_type": "markdown",
   "id": "82e19a0f",
   "metadata": {},
   "source": [
    "### A. Pourcentage des différentes espèces de chien"
   ]
  },
  {
   "cell_type": "code",
   "execution_count": 89,
   "id": "bd4d5396",
   "metadata": {},
   "outputs": [
    {
     "data": {
      "text/plain": [
       "pupper     265\n",
       "doggo       93\n",
       "puppo       37\n",
       "floofer      4\n",
       "Name: dog_stage, dtype: int64"
      ]
     },
     "execution_count": 89,
     "metadata": {},
     "output_type": "execute_result"
    }
   ],
   "source": [
    "stage_df = clean_archive_data.dog_stage.value_counts()\n",
    "stage_df"
   ]
  },
  {
   "cell_type": "code",
   "execution_count": 91,
   "id": "6bd5a1c9",
   "metadata": {},
   "outputs": [
    {
     "data": {
      "text/plain": [
       "(-1.1688700701851218,\n",
       " 1.41740938618791,\n",
       " -1.3407043845000202,\n",
       " 1.2036616490098864)"
      ]
     },
     "execution_count": 91,
     "metadata": {},
     "output_type": "execute_result"
    },
    {
     "data": {
      "image/png": "[encoded data removed]",
      "text/plain": [
       "<Figure size 432x288 with 1 Axes>"
      ]
     },
     "metadata": {},
     "output_type": "display_data"
    }
   ],
   "source": [
    "# Diagramme circulaire \n",
    "plt.pie(stage_df,\n",
    "       labels = ['Pupper', 'Doggo', 'Puppo', 'Floofer'],\n",
    "       autopct = '%1.1f%%',\n",
    "       shadow = True,\n",
    "       explode = (0.1, 0.2, 0.2, 0.3))\n",
    "\n",
    "plt.title('Pourcentage des espèces de chien')\n",
    "plt.axis('equal')"
   ]
  },
  {
   "cell_type": "markdown",
   "id": "6c6af420",
   "metadata": {},
   "source": [
    "- Pupper est l'espèce de chien la plus représentée (68.4%).\n",
    "- Floofer est l'espèce de chien la moins représentée (0.9%)."
   ]
  },
  {
   "cell_type": "markdown",
   "id": "ae6f377c",
   "metadata": {},
   "source": [
    "### B. Relations et coefficient de corrélation entre les variables numériques."
   ]
  },
  {
   "cell_type": "code",
   "execution_count": 92,
   "id": "8f74109f",
   "metadata": {},
   "outputs": [],
   "source": [
    "# Découvrons les colonnes numériques plus facilement\n",
    "df_numeric = clean_archive_data[['retweet_count', 'favorite_count', 'img_num', 'rating_numerator']]"
   ]
  },
  {
   "cell_type": "code",
   "execution_count": 93,
   "id": "e5233673",
   "metadata": {},
   "outputs": [
    {
     "data": {
      "image/png": "[encoded data removed]",
      "text/plain": [
       "<Figure size 432x288 with 2 Axes>"
      ]
     },
     "metadata": {},
     "output_type": "display_data"
    }
   ],
   "source": [
    "# Tracez une carte thermique pour montrer la corrélation entre les variables numériques et utilisez une palette divergente.\n",
    "sns.heatmap(df_numeric.corr(), annot = True, fmt = '.4f', cmap = 'coolwarm', center = 0);\n",
    "plt.title('Corrélation entre les variables numériques');"
   ]
  },
  {
   "cell_type": "markdown",
   "id": "03f58f73",
   "metadata": {},
   "source": [
    "- La seule relation que nous pouvons mentionner ici est la forte corrélation positive entre le nombre de retweets et le nombre de favoris. et cela a du sens."
   ]
  }
 ],
 "metadata": {
  "kernelspec": {
   "display_name": "Python 3 (ipykernel)",
   "language": "python",
   "name": "python3"
  },
  "language_info": {
   "codemirror_mode": {
    "name": "ipython",
    "version": 3
   },
   "file_extension": ".py",
   "mimetype": "text/x-python",
   "name": "python",
   "nbconvert_exporter": "python",
   "pygments_lexer": "ipython3",
   "version": "3.9.12"
  }
 },
 "nbformat": 4,
 "nbformat_minor": 5
}
